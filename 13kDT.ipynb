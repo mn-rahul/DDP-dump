{
 "cells": [
  {
   "cell_type": "code",
   "execution_count": 1,
   "metadata": {},
   "outputs": [],
   "source": [
    "import pandas as pd \n",
    "import numpy as np\n",
    "import matplotlib.pylab as plt\n",
    "%matplotlib inline"
   ]
  },
  {
   "cell_type": "code",
   "execution_count": 2,
   "metadata": {},
   "outputs": [],
   "source": [
    "data=pd.read_csv('Data/13000_triv_nontriv_spdf_binary.csv')\n",
    "pt=pd.read_csv('Data/PeriodicTablesdpf.csv')"
   ]
  },
  {
   "cell_type": "code",
   "execution_count": 3,
   "metadata": {
    "scrolled": true
   },
   "outputs": [
    {
     "data": {
      "text/html": [
       "<div>\n",
       "<style scoped>\n",
       "    .dataframe tbody tr th:only-of-type {\n",
       "        vertical-align: middle;\n",
       "    }\n",
       "\n",
       "    .dataframe tbody tr th {\n",
       "        vertical-align: top;\n",
       "    }\n",
       "\n",
       "    .dataframe thead th {\n",
       "        text-align: right;\n",
       "    }\n",
       "</style>\n",
       "<table border=\"1\" class=\"dataframe\">\n",
       "  <thead>\n",
       "    <tr style=\"text-align: right;\">\n",
       "      <th></th>\n",
       "      <th>NoE</th>\n",
       "      <th>Stoich. Formula</th>\n",
       "      <th>SG</th>\n",
       "      <th>Top_Class</th>\n",
       "      <th>split</th>\n",
       "      <th>feat_vector</th>\n",
       "      <th>s_bin</th>\n",
       "      <th>p_bin</th>\n",
       "      <th>d_bin</th>\n",
       "      <th>f_bin</th>\n",
       "      <th>...</th>\n",
       "      <th>F_mean</th>\n",
       "      <th>F_var</th>\n",
       "      <th>row_mean</th>\n",
       "      <th>row_var</th>\n",
       "      <th>col_mean</th>\n",
       "      <th>col_var</th>\n",
       "      <th>en_mean</th>\n",
       "      <th>en_var</th>\n",
       "      <th>rad_mean</th>\n",
       "      <th>rad_var</th>\n",
       "    </tr>\n",
       "  </thead>\n",
       "  <tbody>\n",
       "    <tr>\n",
       "      <th>0</th>\n",
       "      <td>72.0</td>\n",
       "      <td>S1Ta6</td>\n",
       "      <td>2</td>\n",
       "      <td>2</td>\n",
       "      <td>['S', 'Ta', 'Ta', 'Ta', 'Ta', 'Ta', 'Ta']</td>\n",
       "      <td>[2.0, 0.0, 0.5714285714285714, 1.3997084244475...</td>\n",
       "      <td>1</td>\n",
       "      <td>1</td>\n",
       "      <td>1</td>\n",
       "      <td>1</td>\n",
       "      <td>...</td>\n",
       "      <td>12.0</td>\n",
       "      <td>4.898979</td>\n",
       "      <td>5.571429</td>\n",
       "      <td>1.049781</td>\n",
       "      <td>20.571429</td>\n",
       "      <td>3.849198</td>\n",
       "      <td>1.654286</td>\n",
       "      <td>0.377921</td>\n",
       "      <td>1.957143</td>\n",
       "      <td>0.349927</td>\n",
       "    </tr>\n",
       "    <tr>\n",
       "      <th>1</th>\n",
       "      <td>116.0</td>\n",
       "      <td>P3Tc2</td>\n",
       "      <td>2</td>\n",
       "      <td>2</td>\n",
       "      <td>['P', 'P', 'P', 'Tc', 'Tc']</td>\n",
       "      <td>[2.0, 0.0, 1.8, 1.469693845669907, 2.0, 2.4494...</td>\n",
       "      <td>1</td>\n",
       "      <td>1</td>\n",
       "      <td>1</td>\n",
       "      <td>0</td>\n",
       "      <td>...</td>\n",
       "      <td>0.0</td>\n",
       "      <td>0.000000</td>\n",
       "      <td>3.800000</td>\n",
       "      <td>0.979796</td>\n",
       "      <td>25.800000</td>\n",
       "      <td>3.919184</td>\n",
       "      <td>2.074000</td>\n",
       "      <td>0.142070</td>\n",
       "      <td>1.520000</td>\n",
       "      <td>0.391918</td>\n",
       "    </tr>\n",
       "    <tr>\n",
       "      <th>2</th>\n",
       "      <td>158.0</td>\n",
       "      <td>O9V5</td>\n",
       "      <td>2</td>\n",
       "      <td>2</td>\n",
       "      <td>['O', 'O', 'O', 'O', 'O', 'O', 'O', 'O', 'O', ...</td>\n",
       "      <td>[2.0, 0.0, 2.5714285714285716, 1.9166296949998...</td>\n",
       "      <td>1</td>\n",
       "      <td>1</td>\n",
       "      <td>1</td>\n",
       "      <td>0</td>\n",
       "      <td>...</td>\n",
       "      <td>0.0</td>\n",
       "      <td>0.000000</td>\n",
       "      <td>2.714286</td>\n",
       "      <td>0.958315</td>\n",
       "      <td>26.071429</td>\n",
       "      <td>5.270732</td>\n",
       "      <td>2.793571</td>\n",
       "      <td>0.867275</td>\n",
       "      <td>1.096429</td>\n",
       "      <td>0.598947</td>\n",
       "    </tr>\n",
       "    <tr>\n",
       "      <th>3</th>\n",
       "      <td>154.0</td>\n",
       "      <td>O9P3Ru1</td>\n",
       "      <td>2</td>\n",
       "      <td>2</td>\n",
       "      <td>['O', 'O', 'O', 'O', 'O', 'O', 'O', 'O', 'O', ...</td>\n",
       "      <td>[2.0, 0.0, 3.4615384615384617, 1.0824036368823...</td>\n",
       "      <td>1</td>\n",
       "      <td>1</td>\n",
       "      <td>1</td>\n",
       "      <td>0</td>\n",
       "      <td>...</td>\n",
       "      <td>0.0</td>\n",
       "      <td>0.000000</td>\n",
       "      <td>2.461538</td>\n",
       "      <td>0.842650</td>\n",
       "      <td>29.153846</td>\n",
       "      <td>2.106625</td>\n",
       "      <td>3.056154</td>\n",
       "      <td>0.575774</td>\n",
       "      <td>0.873077</td>\n",
       "      <td>0.374482</td>\n",
       "    </tr>\n",
       "    <tr>\n",
       "      <th>4</th>\n",
       "      <td>124.0</td>\n",
       "      <td>O7V4</td>\n",
       "      <td>2</td>\n",
       "      <td>2</td>\n",
       "      <td>['O', 'O', 'O', 'O', 'O', 'O', 'O', 'V', 'V', ...</td>\n",
       "      <td>[2.0, 0.0, 2.5454545454545454, 1.9241827716833...</td>\n",
       "      <td>1</td>\n",
       "      <td>1</td>\n",
       "      <td>1</td>\n",
       "      <td>0</td>\n",
       "      <td>...</td>\n",
       "      <td>0.0</td>\n",
       "      <td>0.000000</td>\n",
       "      <td>2.727273</td>\n",
       "      <td>0.962091</td>\n",
       "      <td>26.000000</td>\n",
       "      <td>5.291503</td>\n",
       "      <td>2.781818</td>\n",
       "      <td>0.870693</td>\n",
       "      <td>1.104545</td>\n",
       "      <td>0.601307</td>\n",
       "    </tr>\n",
       "  </tbody>\n",
       "</table>\n",
       "<p>5 rows × 26 columns</p>\n",
       "</div>"
      ],
      "text/plain": [
       "     NoE Stoich. Formula  SG  Top_Class  \\\n",
       "0   72.0           S1Ta6   2          2   \n",
       "1  116.0           P3Tc2   2          2   \n",
       "2  158.0            O9V5   2          2   \n",
       "3  154.0         O9P3Ru1   2          2   \n",
       "4  124.0            O7V4   2          2   \n",
       "\n",
       "                                               split  \\\n",
       "0          ['S', 'Ta', 'Ta', 'Ta', 'Ta', 'Ta', 'Ta']   \n",
       "1                        ['P', 'P', 'P', 'Tc', 'Tc']   \n",
       "2  ['O', 'O', 'O', 'O', 'O', 'O', 'O', 'O', 'O', ...   \n",
       "3  ['O', 'O', 'O', 'O', 'O', 'O', 'O', 'O', 'O', ...   \n",
       "4  ['O', 'O', 'O', 'O', 'O', 'O', 'O', 'V', 'V', ...   \n",
       "\n",
       "                                         feat_vector  s_bin  p_bin  d_bin  \\\n",
       "0  [2.0, 0.0, 0.5714285714285714, 1.3997084244475...      1      1      1   \n",
       "1  [2.0, 0.0, 1.8, 1.469693845669907, 2.0, 2.4494...      1      1      1   \n",
       "2  [2.0, 0.0, 2.5714285714285716, 1.9166296949998...      1      1      1   \n",
       "3  [2.0, 0.0, 3.4615384615384617, 1.0824036368823...      1      1      1   \n",
       "4  [2.0, 0.0, 2.5454545454545454, 1.9241827716833...      1      1      1   \n",
       "\n",
       "   f_bin  ...  F_mean     F_var  row_mean   row_var   col_mean   col_var  \\\n",
       "0      1  ...    12.0  4.898979  5.571429  1.049781  20.571429  3.849198   \n",
       "1      0  ...     0.0  0.000000  3.800000  0.979796  25.800000  3.919184   \n",
       "2      0  ...     0.0  0.000000  2.714286  0.958315  26.071429  5.270732   \n",
       "3      0  ...     0.0  0.000000  2.461538  0.842650  29.153846  2.106625   \n",
       "4      0  ...     0.0  0.000000  2.727273  0.962091  26.000000  5.291503   \n",
       "\n",
       "    en_mean    en_var  rad_mean   rad_var  \n",
       "0  1.654286  0.377921  1.957143  0.349927  \n",
       "1  2.074000  0.142070  1.520000  0.391918  \n",
       "2  2.793571  0.867275  1.096429  0.598947  \n",
       "3  3.056154  0.575774  0.873077  0.374482  \n",
       "4  2.781818  0.870693  1.104545  0.601307  \n",
       "\n",
       "[5 rows x 26 columns]"
      ]
     },
     "execution_count": 3,
     "metadata": {},
     "output_type": "execute_result"
    }
   ],
   "source": [
    "data.head()"
   ]
  },
  {
   "cell_type": "code",
   "execution_count": 4,
   "metadata": {
    "scrolled": true
   },
   "outputs": [
    {
     "data": {
      "text/plain": [
       "NoE                  0\n",
       "Stoich. Formula      0\n",
       "SG                   0\n",
       "Top_Class            0\n",
       "split                0\n",
       "feat_vector          0\n",
       "s_bin                0\n",
       "p_bin                0\n",
       "d_bin                0\n",
       "f_bin                0\n",
       "S_mean               0\n",
       "S_var                0\n",
       "P_mean               0\n",
       "P_var                0\n",
       "D_mean               0\n",
       "D_var                0\n",
       "F_mean               0\n",
       "F_var                0\n",
       "row_mean             0\n",
       "row_var              0\n",
       "col_mean             0\n",
       "col_var              0\n",
       "en_mean              0\n",
       "en_var               0\n",
       "rad_mean           381\n",
       "rad_var            381\n",
       "dtype: int64"
      ]
     },
     "execution_count": 4,
     "metadata": {},
     "output_type": "execute_result"
    }
   ],
   "source": [
    "data.isna().sum()"
   ]
  },
  {
   "cell_type": "code",
   "execution_count": 5,
   "metadata": {
    "scrolled": true
   },
   "outputs": [],
   "source": [
    "data.dropna(axis=0, how='all',inplace=True)"
   ]
  },
  {
   "cell_type": "code",
   "execution_count": 6,
   "metadata": {},
   "outputs": [
    {
     "data": {
      "text/plain": [
       "NoE                  0\n",
       "Stoich. Formula      0\n",
       "SG                   0\n",
       "Top_Class            0\n",
       "split                0\n",
       "feat_vector          0\n",
       "s_bin                0\n",
       "p_bin                0\n",
       "d_bin                0\n",
       "f_bin                0\n",
       "S_mean               0\n",
       "S_var                0\n",
       "P_mean               0\n",
       "P_var                0\n",
       "D_mean               0\n",
       "D_var                0\n",
       "F_mean               0\n",
       "F_var                0\n",
       "row_mean             0\n",
       "row_var              0\n",
       "col_mean             0\n",
       "col_var              0\n",
       "en_mean              0\n",
       "en_var               0\n",
       "rad_mean           381\n",
       "rad_var            381\n",
       "dtype: int64"
      ]
     },
     "execution_count": 6,
     "metadata": {},
     "output_type": "execute_result"
    }
   ],
   "source": [
    "data.isna().sum()"
   ]
  },
  {
   "cell_type": "code",
   "execution_count": 7,
   "metadata": {},
   "outputs": [],
   "source": [
    "y=data['Top_Class']\n",
    "x=data.drop(['split','Stoich. Formula','feat_vector','rad_mean','rad_var','Top_Class'],axis=1)"
   ]
  },
  {
   "cell_type": "code",
   "execution_count": 8,
   "metadata": {},
   "outputs": [],
   "source": [
    "# import numpy as np\n",
    "# import pandas as pd\n",
    "# from sklearn import tree\n",
    "# from sklearn.model_selection import GridSearchCV\n",
    "# parameters = {'criterion':['gini','entropy'],'max_depth':range(3,10)}\n",
    "# clf = GridSearchCV(tree.DecisionTreeClassifier(), parameters, n_jobs=4,cv=15)\n",
    "# clf.fit(X=x, y=y)\n",
    "# tree_model = clf.best_estimator_\n",
    "# print (clf.best_score_, clf.best_params_) "
   ]
  },
  {
   "cell_type": "code",
   "execution_count": 9,
   "metadata": {},
   "outputs": [
    {
     "data": {
      "text/html": [
       "<div>\n",
       "<style scoped>\n",
       "    .dataframe tbody tr th:only-of-type {\n",
       "        vertical-align: middle;\n",
       "    }\n",
       "\n",
       "    .dataframe tbody tr th {\n",
       "        vertical-align: top;\n",
       "    }\n",
       "\n",
       "    .dataframe thead th {\n",
       "        text-align: right;\n",
       "    }\n",
       "</style>\n",
       "<table border=\"1\" class=\"dataframe\">\n",
       "  <thead>\n",
       "    <tr style=\"text-align: right;\">\n",
       "      <th></th>\n",
       "      <th>NoE</th>\n",
       "      <th>SG</th>\n",
       "      <th>s_bin</th>\n",
       "      <th>p_bin</th>\n",
       "      <th>d_bin</th>\n",
       "      <th>f_bin</th>\n",
       "      <th>S_mean</th>\n",
       "      <th>S_var</th>\n",
       "      <th>P_mean</th>\n",
       "      <th>P_var</th>\n",
       "      <th>D_mean</th>\n",
       "      <th>D_var</th>\n",
       "      <th>F_mean</th>\n",
       "      <th>F_var</th>\n",
       "      <th>row_mean</th>\n",
       "      <th>row_var</th>\n",
       "      <th>col_mean</th>\n",
       "      <th>col_var</th>\n",
       "      <th>en_mean</th>\n",
       "      <th>en_var</th>\n",
       "    </tr>\n",
       "  </thead>\n",
       "  <tbody>\n",
       "    <tr>\n",
       "      <th>0</th>\n",
       "      <td>72.0</td>\n",
       "      <td>2</td>\n",
       "      <td>1</td>\n",
       "      <td>1</td>\n",
       "      <td>1</td>\n",
       "      <td>1</td>\n",
       "      <td>2.0</td>\n",
       "      <td>0.0</td>\n",
       "      <td>0.571429</td>\n",
       "      <td>1.399708</td>\n",
       "      <td>2.571429</td>\n",
       "      <td>1.049781</td>\n",
       "      <td>12.0</td>\n",
       "      <td>4.898979</td>\n",
       "      <td>5.571429</td>\n",
       "      <td>1.049781</td>\n",
       "      <td>20.571429</td>\n",
       "      <td>3.849198</td>\n",
       "      <td>1.654286</td>\n",
       "      <td>0.377921</td>\n",
       "    </tr>\n",
       "    <tr>\n",
       "      <th>1</th>\n",
       "      <td>116.0</td>\n",
       "      <td>2</td>\n",
       "      <td>1</td>\n",
       "      <td>1</td>\n",
       "      <td>1</td>\n",
       "      <td>0</td>\n",
       "      <td>2.0</td>\n",
       "      <td>0.0</td>\n",
       "      <td>1.800000</td>\n",
       "      <td>1.469694</td>\n",
       "      <td>2.000000</td>\n",
       "      <td>2.449490</td>\n",
       "      <td>0.0</td>\n",
       "      <td>0.000000</td>\n",
       "      <td>3.800000</td>\n",
       "      <td>0.979796</td>\n",
       "      <td>25.800000</td>\n",
       "      <td>3.919184</td>\n",
       "      <td>2.074000</td>\n",
       "      <td>0.142070</td>\n",
       "    </tr>\n",
       "    <tr>\n",
       "      <th>2</th>\n",
       "      <td>158.0</td>\n",
       "      <td>2</td>\n",
       "      <td>1</td>\n",
       "      <td>1</td>\n",
       "      <td>1</td>\n",
       "      <td>0</td>\n",
       "      <td>2.0</td>\n",
       "      <td>0.0</td>\n",
       "      <td>2.571429</td>\n",
       "      <td>1.916630</td>\n",
       "      <td>1.071429</td>\n",
       "      <td>1.437472</td>\n",
       "      <td>0.0</td>\n",
       "      <td>0.000000</td>\n",
       "      <td>2.714286</td>\n",
       "      <td>0.958315</td>\n",
       "      <td>26.071429</td>\n",
       "      <td>5.270732</td>\n",
       "      <td>2.793571</td>\n",
       "      <td>0.867275</td>\n",
       "    </tr>\n",
       "    <tr>\n",
       "      <th>3</th>\n",
       "      <td>154.0</td>\n",
       "      <td>2</td>\n",
       "      <td>1</td>\n",
       "      <td>1</td>\n",
       "      <td>1</td>\n",
       "      <td>0</td>\n",
       "      <td>2.0</td>\n",
       "      <td>0.0</td>\n",
       "      <td>3.461538</td>\n",
       "      <td>1.082404</td>\n",
       "      <td>0.461538</td>\n",
       "      <td>1.598816</td>\n",
       "      <td>0.0</td>\n",
       "      <td>0.000000</td>\n",
       "      <td>2.461538</td>\n",
       "      <td>0.842650</td>\n",
       "      <td>29.153846</td>\n",
       "      <td>2.106625</td>\n",
       "      <td>3.056154</td>\n",
       "      <td>0.575774</td>\n",
       "    </tr>\n",
       "    <tr>\n",
       "      <th>4</th>\n",
       "      <td>124.0</td>\n",
       "      <td>2</td>\n",
       "      <td>1</td>\n",
       "      <td>1</td>\n",
       "      <td>1</td>\n",
       "      <td>0</td>\n",
       "      <td>2.0</td>\n",
       "      <td>0.0</td>\n",
       "      <td>2.545455</td>\n",
       "      <td>1.924183</td>\n",
       "      <td>1.090909</td>\n",
       "      <td>1.443137</td>\n",
       "      <td>0.0</td>\n",
       "      <td>0.000000</td>\n",
       "      <td>2.727273</td>\n",
       "      <td>0.962091</td>\n",
       "      <td>26.000000</td>\n",
       "      <td>5.291503</td>\n",
       "      <td>2.781818</td>\n",
       "      <td>0.870693</td>\n",
       "    </tr>\n",
       "    <tr>\n",
       "      <th>...</th>\n",
       "      <td>...</td>\n",
       "      <td>...</td>\n",
       "      <td>...</td>\n",
       "      <td>...</td>\n",
       "      <td>...</td>\n",
       "      <td>...</td>\n",
       "      <td>...</td>\n",
       "      <td>...</td>\n",
       "      <td>...</td>\n",
       "      <td>...</td>\n",
       "      <td>...</td>\n",
       "      <td>...</td>\n",
       "      <td>...</td>\n",
       "      <td>...</td>\n",
       "      <td>...</td>\n",
       "      <td>...</td>\n",
       "      <td>...</td>\n",
       "      <td>...</td>\n",
       "      <td>...</td>\n",
       "      <td>...</td>\n",
       "    </tr>\n",
       "    <tr>\n",
       "      <th>13138</th>\n",
       "      <td>48.0</td>\n",
       "      <td>160</td>\n",
       "      <td>1</td>\n",
       "      <td>1</td>\n",
       "      <td>0</td>\n",
       "      <td>0</td>\n",
       "      <td>2.0</td>\n",
       "      <td>0.0</td>\n",
       "      <td>1.428571</td>\n",
       "      <td>0.494872</td>\n",
       "      <td>0.000000</td>\n",
       "      <td>0.000000</td>\n",
       "      <td>0.0</td>\n",
       "      <td>0.000000</td>\n",
       "      <td>2.571429</td>\n",
       "      <td>0.494872</td>\n",
       "      <td>27.428571</td>\n",
       "      <td>0.494872</td>\n",
       "      <td>2.012857</td>\n",
       "      <td>0.465179</td>\n",
       "    </tr>\n",
       "    <tr>\n",
       "      <th>13139</th>\n",
       "      <td>84.0</td>\n",
       "      <td>160</td>\n",
       "      <td>1</td>\n",
       "      <td>1</td>\n",
       "      <td>1</td>\n",
       "      <td>0</td>\n",
       "      <td>2.0</td>\n",
       "      <td>0.0</td>\n",
       "      <td>2.571429</td>\n",
       "      <td>1.678191</td>\n",
       "      <td>1.428571</td>\n",
       "      <td>3.499271</td>\n",
       "      <td>0.0</td>\n",
       "      <td>0.000000</td>\n",
       "      <td>3.142857</td>\n",
       "      <td>0.349927</td>\n",
       "      <td>28.571429</td>\n",
       "      <td>1.678191</td>\n",
       "      <td>2.170000</td>\n",
       "      <td>0.473588</td>\n",
       "    </tr>\n",
       "    <tr>\n",
       "      <th>13140</th>\n",
       "      <td>76.0</td>\n",
       "      <td>160</td>\n",
       "      <td>1</td>\n",
       "      <td>1</td>\n",
       "      <td>1</td>\n",
       "      <td>0</td>\n",
       "      <td>2.0</td>\n",
       "      <td>0.0</td>\n",
       "      <td>2.571429</td>\n",
       "      <td>1.678191</td>\n",
       "      <td>0.857143</td>\n",
       "      <td>2.099563</td>\n",
       "      <td>0.0</td>\n",
       "      <td>0.000000</td>\n",
       "      <td>3.142857</td>\n",
       "      <td>0.349927</td>\n",
       "      <td>28.000000</td>\n",
       "      <td>2.777460</td>\n",
       "      <td>2.195714</td>\n",
       "      <td>0.448899</td>\n",
       "    </tr>\n",
       "    <tr>\n",
       "      <th>13141</th>\n",
       "      <td>68.0</td>\n",
       "      <td>160</td>\n",
       "      <td>1</td>\n",
       "      <td>1</td>\n",
       "      <td>1</td>\n",
       "      <td>0</td>\n",
       "      <td>2.0</td>\n",
       "      <td>0.0</td>\n",
       "      <td>3.000000</td>\n",
       "      <td>1.549193</td>\n",
       "      <td>1.800000</td>\n",
       "      <td>3.600000</td>\n",
       "      <td>0.0</td>\n",
       "      <td>0.000000</td>\n",
       "      <td>2.600000</td>\n",
       "      <td>1.200000</td>\n",
       "      <td>28.800000</td>\n",
       "      <td>1.939072</td>\n",
       "      <td>3.058000</td>\n",
       "      <td>0.584890</td>\n",
       "    </tr>\n",
       "    <tr>\n",
       "      <th>13142</th>\n",
       "      <td>40.0</td>\n",
       "      <td>160</td>\n",
       "      <td>1</td>\n",
       "      <td>1</td>\n",
       "      <td>1</td>\n",
       "      <td>0</td>\n",
       "      <td>2.0</td>\n",
       "      <td>0.0</td>\n",
       "      <td>1.666667</td>\n",
       "      <td>1.247219</td>\n",
       "      <td>3.000000</td>\n",
       "      <td>4.242641</td>\n",
       "      <td>0.0</td>\n",
       "      <td>0.000000</td>\n",
       "      <td>3.000000</td>\n",
       "      <td>1.414214</td>\n",
       "      <td>27.333333</td>\n",
       "      <td>1.699673</td>\n",
       "      <td>2.506667</td>\n",
       "      <td>0.454190</td>\n",
       "    </tr>\n",
       "  </tbody>\n",
       "</table>\n",
       "<p>13143 rows × 20 columns</p>\n",
       "</div>"
      ],
      "text/plain": [
       "         NoE   SG  s_bin  p_bin  d_bin  f_bin  S_mean  S_var    P_mean  \\\n",
       "0       72.0    2      1      1      1      1     2.0    0.0  0.571429   \n",
       "1      116.0    2      1      1      1      0     2.0    0.0  1.800000   \n",
       "2      158.0    2      1      1      1      0     2.0    0.0  2.571429   \n",
       "3      154.0    2      1      1      1      0     2.0    0.0  3.461538   \n",
       "4      124.0    2      1      1      1      0     2.0    0.0  2.545455   \n",
       "...      ...  ...    ...    ...    ...    ...     ...    ...       ...   \n",
       "13138   48.0  160      1      1      0      0     2.0    0.0  1.428571   \n",
       "13139   84.0  160      1      1      1      0     2.0    0.0  2.571429   \n",
       "13140   76.0  160      1      1      1      0     2.0    0.0  2.571429   \n",
       "13141   68.0  160      1      1      1      0     2.0    0.0  3.000000   \n",
       "13142   40.0  160      1      1      1      0     2.0    0.0  1.666667   \n",
       "\n",
       "          P_var    D_mean     D_var  F_mean     F_var  row_mean   row_var  \\\n",
       "0      1.399708  2.571429  1.049781    12.0  4.898979  5.571429  1.049781   \n",
       "1      1.469694  2.000000  2.449490     0.0  0.000000  3.800000  0.979796   \n",
       "2      1.916630  1.071429  1.437472     0.0  0.000000  2.714286  0.958315   \n",
       "3      1.082404  0.461538  1.598816     0.0  0.000000  2.461538  0.842650   \n",
       "4      1.924183  1.090909  1.443137     0.0  0.000000  2.727273  0.962091   \n",
       "...         ...       ...       ...     ...       ...       ...       ...   \n",
       "13138  0.494872  0.000000  0.000000     0.0  0.000000  2.571429  0.494872   \n",
       "13139  1.678191  1.428571  3.499271     0.0  0.000000  3.142857  0.349927   \n",
       "13140  1.678191  0.857143  2.099563     0.0  0.000000  3.142857  0.349927   \n",
       "13141  1.549193  1.800000  3.600000     0.0  0.000000  2.600000  1.200000   \n",
       "13142  1.247219  3.000000  4.242641     0.0  0.000000  3.000000  1.414214   \n",
       "\n",
       "        col_mean   col_var   en_mean    en_var  \n",
       "0      20.571429  3.849198  1.654286  0.377921  \n",
       "1      25.800000  3.919184  2.074000  0.142070  \n",
       "2      26.071429  5.270732  2.793571  0.867275  \n",
       "3      29.153846  2.106625  3.056154  0.575774  \n",
       "4      26.000000  5.291503  2.781818  0.870693  \n",
       "...          ...       ...       ...       ...  \n",
       "13138  27.428571  0.494872  2.012857  0.465179  \n",
       "13139  28.571429  1.678191  2.170000  0.473588  \n",
       "13140  28.000000  2.777460  2.195714  0.448899  \n",
       "13141  28.800000  1.939072  3.058000  0.584890  \n",
       "13142  27.333333  1.699673  2.506667  0.454190  \n",
       "\n",
       "[13143 rows x 20 columns]"
      ]
     },
     "execution_count": 9,
     "metadata": {},
     "output_type": "execute_result"
    }
   ],
   "source": [
    "x"
   ]
  },
  {
   "cell_type": "code",
   "execution_count": 10,
   "metadata": {},
   "outputs": [],
   "source": [
    "from sklearn.model_selection import train_test_split\n",
    "X_train, X_test, y_train, y_test = train_test_split(x, y, test_size=0.2, random_state=42)"
   ]
  },
  {
   "cell_type": "code",
   "execution_count": 11,
   "metadata": {},
   "outputs": [
    {
     "data": {
      "text/plain": [
       "DecisionTreeClassifier()"
      ]
     },
     "execution_count": 11,
     "metadata": {},
     "output_type": "execute_result"
    }
   ],
   "source": [
    "from sklearn import tree\n",
    "dt=tree.DecisionTreeClassifier()\n",
    "dt.fit(X_train,y_train)"
   ]
  },
  {
   "cell_type": "code",
   "execution_count": 12,
   "metadata": {},
   "outputs": [],
   "source": [
    "y_pred=dt.predict(X_test)"
   ]
  },
  {
   "cell_type": "code",
   "execution_count": 13,
   "metadata": {
    "scrolled": true
   },
   "outputs": [
    {
     "name": "stdout",
     "output_type": "stream",
     "text": [
      "0.7630277672118676\n"
     ]
    }
   ],
   "source": [
    "from sklearn import metrics\n",
    "print(metrics.accuracy_score(y_test, y_pred))"
   ]
  },
  {
   "cell_type": "code",
   "execution_count": 14,
   "metadata": {},
   "outputs": [
    {
     "name": "stdout",
     "output_type": "stream",
     "text": [
      "Feature: 0, Score: 0.20584\n",
      "Feature: 1, Score: 0.15171\n",
      "Feature: 2, Score: 0.00000\n",
      "Feature: 3, Score: 0.00060\n",
      "Feature: 4, Score: 0.00610\n",
      "Feature: 5, Score: 0.00227\n",
      "Feature: 6, Score: 0.01261\n",
      "Feature: 7, Score: 0.00628\n",
      "Feature: 8, Score: 0.05817\n",
      "Feature: 9, Score: 0.04160\n",
      "Feature: 10, Score: 0.04377\n",
      "Feature: 11, Score: 0.06487\n",
      "Feature: 12, Score: 0.04099\n",
      "Feature: 13, Score: 0.03392\n",
      "Feature: 14, Score: 0.03788\n",
      "Feature: 15, Score: 0.03686\n",
      "Feature: 16, Score: 0.07094\n",
      "Feature: 17, Score: 0.05713\n",
      "Feature: 18, Score: 0.05744\n",
      "Feature: 19, Score: 0.07100\n"
     ]
    },
    {
     "data": {
      "image/png": "[encoded data removed]",
      "text/plain": [
       "<Figure size 432x288 with 1 Axes>"
      ]
     },
     "metadata": {
      "needs_background": "light"
     },
     "output_type": "display_data"
    }
   ],
   "source": [
    "importance = dt.feature_importances_\n",
    "import matplotlib.pyplot\n",
    "# summarize feature importance\n",
    "for i,v in enumerate(importance):\n",
    "    print('Feature: %0d, Score: %.5f' % (i,v))\n",
    "# plot feature importance\n",
    "plt.bar([x for x in range(len(importance))], importance)\n",
    "plt.show()"
   ]
  },
  {
   "cell_type": "code",
   "execution_count": 15,
   "metadata": {},
   "outputs": [
    {
     "name": "stdout",
     "output_type": "stream",
     "text": [
      "0.42424928484709534 {'max_depth': 4}\n"
     ]
    }
   ],
   "source": [
    "import numpy as np\n",
    "import pandas as pd\n",
    "from sklearn import tree\n",
    "from sklearn.model_selection import GridSearchCV\n",
    "\n",
    "#features = []\n",
    "\n",
    "\n",
    "parameters = {'max_depth':range(3,20)}\n",
    "clf = GridSearchCV(tree.DecisionTreeClassifier(), parameters, n_jobs=4)\n",
    "clf.fit(X=x, y=y)\n",
    "tree_model = clf.best_estimator_\n",
    "print (clf.best_score_, clf.best_params_) "
   ]
  },
  {
   "cell_type": "code",
   "execution_count": 16,
   "metadata": {},
   "outputs": [
    {
     "data": {
      "text/plain": [
       "RandomForestClassifier(max_depth=2, random_state=0)"
      ]
     },
     "execution_count": 16,
     "metadata": {},
     "output_type": "execute_result"
    }
   ],
   "source": [
    "#Random Forest\n",
    "from sklearn.ensemble import RandomForestClassifier\n",
    "from sklearn.datasets import make_classification\n",
    "X, y = make_classification(n_samples=1000, n_informative=2, n_redundant=0,\n",
    "                           random_state=0, shuffle=False)\n",
    "rf = RandomForestClassifier(max_depth=2, random_state=0)\n",
    "rf.fit(X_train, y_train)"
   ]
  },
  {
   "cell_type": "code",
   "execution_count": 17,
   "metadata": {},
   "outputs": [],
   "source": [
    "y_prerf=rf.predict(X_test)"
   ]
  },
  {
   "cell_type": "code",
   "execution_count": 18,
   "metadata": {
    "scrolled": true
   },
   "outputs": [
    {
     "name": "stdout",
     "output_type": "stream",
     "text": [
      "0.4469379992392545\n"
     ]
    }
   ],
   "source": [
    "print(metrics.accuracy_score(y_test, y_prerf))"
   ]
  },
  {
   "cell_type": "code",
   "execution_count": 19,
   "metadata": {},
   "outputs": [],
   "source": [
    "# from sklearn.tree import export_graphviz\n",
    "# # Export as dot file\n",
    "# export_graphviz(out_file='tree.dot', \n",
    "#                 feature_names = ['NoE','SG','s_bin','p_bin','d_bin','f_bin'],\n",
    "#                 rounded = True, proportion = False, \n",
    "#                 precision = 2, filled = True)\n",
    "\n",
    "# # Convert to png using system command (requires Graphviz)\n",
    "# from subprocess import call\n",
    "# call(['dot', '-Tpng', 'tree.dot', '-o', 'tree.png', '-Gdpi=600'])\n",
    "\n",
    "# # Display in jupyter notebook\n",
    "# from IPython.display import Image\n",
    "# Image(filename = 'tree.png')"
   ]
  },
  {
   "cell_type": "code",
   "execution_count": 27,
   "metadata": {},
   "outputs": [
    {
     "name": "stdout",
     "output_type": "stream",
     "text": [
      "[11:09:05] WARNING: ../src/learner.cc:1095: Starting in XGBoost 1.3.0, the default evaluation metric used with the objective 'multi:softprob' was changed from 'merror' to 'mlogloss'. Explicitly set eval_metric if you'd like to restore the old behavior.\n"
     ]
    },
    {
     "data": {
      "text/plain": [
       "XGBClassifier(alpha=10, base_score=0.5, booster='gbtree', colsample_bylevel=1,\n",
       "              colsample_bynode=1, colsample_bytree=0.3, gamma=0, gpu_id=-1,\n",
       "              importance_type='gain', interaction_constraints='',\n",
       "              learning_rate=0.01, max_delta_step=0, max_depth=5,\n",
       "              min_child_weight=1, missing=nan, monotone_constraints='()',\n",
       "              n_estimators=100, n_jobs=4, num_parallel_tree=1,\n",
       "              objective='multi:softprob', random_state=0, reg_alpha=10,\n",
       "              reg_lambda=1, scale_pos_weight=None, subsample=1,\n",
       "              tree_method='exact', validate_parameters=1, verbosity=None)"
      ]
     },
     "execution_count": 27,
     "metadata": {},
     "output_type": "execute_result"
    }
   ],
   "source": [
    "import xgboost as xgb\n",
    "params = {'colsample_bytree': 0.3,'learning_rate': 0.01,\n",
    "                'max_depth': 5, 'alpha': 10}\n",
    "xgbo = xgb.XGBClassifier(**params)\n",
    "xgbo.fit(X_train, y_train)"
   ]
  },
  {
   "cell_type": "code",
   "execution_count": 28,
   "metadata": {},
   "outputs": [
    {
     "name": "stdout",
     "output_type": "stream",
     "text": [
      "0.6192468619246861\n"
     ]
    }
   ],
   "source": [
    "y_prexg=xgbo.predict(X_test)\n",
    "print(metrics.accuracy_score(y_test, y_prexg))"
   ]
  },
  {
   "cell_type": "code",
   "execution_count": 29,
   "metadata": {},
   "outputs": [
    {
     "data": {
      "text/plain": [
       "<AxesSubplot:title={'center':'Feature importance'}, xlabel='F score', ylabel='Features'>"
      ]
     },
     "execution_count": 29,
     "metadata": {},
     "output_type": "execute_result"
    },
    {
     "data": {
      "image/png": "[encoded data removed]",
      "text/plain": [
       "<Figure size 432x288 with 1 Axes>"
      ]
     },
     "metadata": {
      "needs_background": "light"
     },
     "output_type": "display_data"
    }
   ],
   "source": [
    "from xgboost import plot_importance\n",
    "plot_importance(xgbo, )"
   ]
  },
  {
   "cell_type": "code",
   "execution_count": null,
   "metadata": {},
   "outputs": [],
   "source": []
  }
 ],
 "metadata": {
  "kernelspec": {
   "display_name": "Python 3",
   "language": "python",
   "name": "python3"
  },
  "language_info": {
   "codemirror_mode": {
    "name": "ipython",
    "version": 3
   },
   "file_extension": ".py",
   "mimetype": "text/x-python",
   "name": "python",
   "nbconvert_exporter": "python",
   "pygments_lexer": "ipython3",
   "version": "3.8.10"
  }
 },
 "nbformat": 4,
 "nbformat_minor": 4
}
