{
 "cells": [
  {
   "cell_type": "code",
   "execution_count": 1,
   "metadata": {},
   "outputs": [],
   "source": [
    "import pandas as pd\n",
    "import numpy as np"
   ]
  },
  {
   "cell_type": "code",
   "execution_count": 2,
   "metadata": {},
   "outputs": [],
   "source": [
    "dat=pd.read_csv('TopMat.csv',na_values='NaN')"
   ]
  },
  {
   "cell_type": "code",
   "execution_count": 3,
   "metadata": {},
   "outputs": [
    {
     "data": {
      "text/html": [
       "<div>\n",
       "<style scoped>\n",
       "    .dataframe tbody tr th:only-of-type {\n",
       "        vertical-align: middle;\n",
       "    }\n",
       "\n",
       "    .dataframe tbody tr th {\n",
       "        vertical-align: top;\n",
       "    }\n",
       "\n",
       "    .dataframe thead th {\n",
       "        text-align: right;\n",
       "    }\n",
       "</style>\n",
       "<table border=\"1\" class=\"dataframe\">\n",
       "  <thead>\n",
       "    <tr style=\"text-align: right;\">\n",
       "      <th></th>\n",
       "      <th>Formula</th>\n",
       "      <th>Source</th>\n",
       "      <th>ID</th>\n",
       "      <th>space group</th>\n",
       "      <th>centered</th>\n",
       "      <th>natoms</th>\n",
       "      <th>nelectrons</th>\n",
       "      <th>dim</th>\n",
       "      <th>bandgap</th>\n",
       "      <th>directbandgap</th>\n",
       "      <th>metallicity</th>\n",
       "      <th>ν</th>\n",
       "      <th>wcc</th>\n",
       "    </tr>\n",
       "  </thead>\n",
       "  <tbody>\n",
       "    <tr>\n",
       "      <th>0</th>\n",
       "      <td>ZrZnNi4</td>\n",
       "      <td>COD</td>\n",
       "      <td>1523279</td>\n",
       "      <td>F-43m (216)</td>\n",
       "      <td>0</td>\n",
       "      <td>6</td>\n",
       "      <td>56</td>\n",
       "      <td>3</td>\n",
       "      <td>0.0</td>\n",
       "      <td>0.000</td>\n",
       "      <td>0.408</td>\n",
       "      <td>NaN</td>\n",
       "      <td>0</td>\n",
       "    </tr>\n",
       "    <tr>\n",
       "      <th>1</th>\n",
       "      <td>ZrZnCu2</td>\n",
       "      <td>COD</td>\n",
       "      <td>1524552</td>\n",
       "      <td>Fm-3m (225)</td>\n",
       "      <td>1</td>\n",
       "      <td>4</td>\n",
       "      <td>38</td>\n",
       "      <td>3</td>\n",
       "      <td>0.0</td>\n",
       "      <td>0.015</td>\n",
       "      <td>0.206</td>\n",
       "      <td>(0;000)</td>\n",
       "      <td>0</td>\n",
       "    </tr>\n",
       "    <tr>\n",
       "      <th>2</th>\n",
       "      <td>ZrZn2</td>\n",
       "      <td>ICSD</td>\n",
       "      <td>653508</td>\n",
       "      <td>Fd-3m (227)</td>\n",
       "      <td>1</td>\n",
       "      <td>6</td>\n",
       "      <td>56</td>\n",
       "      <td>3</td>\n",
       "      <td>0.0</td>\n",
       "      <td>0.000</td>\n",
       "      <td>0.890</td>\n",
       "      <td>(0;000)</td>\n",
       "      <td>0</td>\n",
       "    </tr>\n",
       "    <tr>\n",
       "      <th>3</th>\n",
       "      <td>ZrZn</td>\n",
       "      <td>ICSD</td>\n",
       "      <td>106235</td>\n",
       "      <td>Pm-3m (221)</td>\n",
       "      <td>1</td>\n",
       "      <td>2</td>\n",
       "      <td>16</td>\n",
       "      <td>3</td>\n",
       "      <td>0.0</td>\n",
       "      <td>0.022</td>\n",
       "      <td>0.090</td>\n",
       "      <td>(0;111)</td>\n",
       "      <td>0</td>\n",
       "    </tr>\n",
       "    <tr>\n",
       "      <th>4</th>\n",
       "      <td>ZrZn</td>\n",
       "      <td>COD</td>\n",
       "      <td>1527718</td>\n",
       "      <td>Fm-3m (225)</td>\n",
       "      <td>1</td>\n",
       "      <td>2</td>\n",
       "      <td>16</td>\n",
       "      <td>3</td>\n",
       "      <td>0.0</td>\n",
       "      <td>0.085</td>\n",
       "      <td>0.440</td>\n",
       "      <td>(1;000)</td>\n",
       "      <td>0</td>\n",
       "    </tr>\n",
       "  </tbody>\n",
       "</table>\n",
       "</div>"
      ],
      "text/plain": [
       "   Formula Source       ID  space group  centered  natoms  nelectrons  dim  \\\n",
       "0  ZrZnNi4    COD  1523279  F-43m (216)         0       6          56    3   \n",
       "1  ZrZnCu2    COD  1524552  Fm-3m (225)         1       4          38    3   \n",
       "2    ZrZn2   ICSD   653508  Fd-3m (227)         1       6          56    3   \n",
       "3     ZrZn   ICSD   106235  Pm-3m (221)         1       2          16    3   \n",
       "4     ZrZn    COD  1527718  Fm-3m (225)         1       2          16    3   \n",
       "\n",
       "   bandgap  directbandgap  metallicity        ν  wcc  \n",
       "0      0.0          0.000        0.408      NaN    0  \n",
       "1      0.0          0.015        0.206  (0;000)    0  \n",
       "2      0.0          0.000        0.890  (0;000)    0  \n",
       "3      0.0          0.022        0.090  (0;111)    0  \n",
       "4      0.0          0.085        0.440  (1;000)    0  "
      ]
     },
     "execution_count": 3,
     "metadata": {},
     "output_type": "execute_result"
    }
   ],
   "source": [
    "dat.head()"
   ]
  },
  {
   "cell_type": "code",
   "execution_count": 4,
   "metadata": {},
   "outputs": [
    {
     "name": "stdout",
     "output_type": "stream",
     "text": [
      "Index(['Formula', 'Source', 'ID', 'space group', 'centered', 'natoms',\n",
      "       'nelectrons', 'dim', 'bandgap', 'directbandgap', 'metallicity', 'ν',\n",
      "       'wcc'],\n",
      "      dtype='object')\n"
     ]
    }
   ],
   "source": [
    "print(dat. columns)"
   ]
  },
  {
   "cell_type": "code",
   "execution_count": 5,
   "metadata": {},
   "outputs": [
    {
     "data": {
      "text/plain": [
       "(13628, 13)"
      ]
     },
     "execution_count": 5,
     "metadata": {},
     "output_type": "execute_result"
    }
   ],
   "source": [
    "dat.shape"
   ]
  },
  {
   "cell_type": "code",
   "execution_count": 6,
   "metadata": {},
   "outputs": [
    {
     "name": "stdout",
     "output_type": "stream",
     "text": [
      "<class 'pandas.core.frame.DataFrame'>\n",
      "RangeIndex: 13628 entries, 0 to 13627\n",
      "Data columns (total 13 columns):\n",
      " #   Column         Non-Null Count  Dtype  \n",
      "---  ------         --------------  -----  \n",
      " 0   Formula        13628 non-null  object \n",
      " 1   Source         13628 non-null  object \n",
      " 2   ID             13628 non-null  int64  \n",
      " 3   space group    13628 non-null  object \n",
      " 4   centered       13628 non-null  int64  \n",
      " 5   natoms         13628 non-null  int64  \n",
      " 6   nelectrons     13628 non-null  int64  \n",
      " 7   dim            13628 non-null  int64  \n",
      " 8   bandgap        13628 non-null  float64\n",
      " 9   directbandgap  13628 non-null  float64\n",
      " 10  metallicity    13628 non-null  float64\n",
      " 11  ν              12926 non-null  object \n",
      " 12  wcc            13628 non-null  int64  \n",
      "dtypes: float64(3), int64(6), object(4)\n",
      "memory usage: 1.4+ MB\n"
     ]
    }
   ],
   "source": [
    "dat.info()"
   ]
  },
  {
   "cell_type": "code",
   "execution_count": 7,
   "metadata": {},
   "outputs": [
    {
     "name": "stdout",
     "output_type": "stream",
     "text": [
      "Formula          10483\n",
      "Source               2\n",
      "ID               13627\n",
      "space group        229\n",
      "centered             2\n",
      "natoms              24\n",
      "nelectrons         167\n",
      "dim                  4\n",
      "bandgap           5944\n",
      "directbandgap     3947\n",
      "metallicity        995\n",
      "ν                   16\n",
      "wcc                  2\n",
      "dtype: int64\n"
     ]
    }
   ],
   "source": [
    "n = dat.nunique(axis=0)\n",
    "print(n)"
   ]
  },
  {
   "cell_type": "code",
   "execution_count": null,
   "metadata": {},
   "outputs": [],
   "source": []
  }
 ],
 "metadata": {
  "kernelspec": {
   "display_name": "Python 3",
   "language": "python",
   "name": "python3"
  },
  "language_info": {
   "codemirror_mode": {
    "name": "ipython",
    "version": 3
   },
   "file_extension": ".py",
   "mimetype": "text/x-python",
   "name": "python",
   "nbconvert_exporter": "python",
   "pygments_lexer": "ipython3",
   "version": "3.8.5"
  }
 },
 "nbformat": 4,
 "nbformat_minor": 4
}
