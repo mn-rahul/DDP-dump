{
 "cells": [
  {
   "cell_type": "code",
   "execution_count": 1,
   "metadata": {},
   "outputs": [],
   "source": [
    "import numpy as np\n",
    "import pandas as pd"
   ]
  },
  {
   "cell_type": "code",
   "execution_count": 3,
   "metadata": {},
   "outputs": [],
   "source": [
    "per_tab = pd.read_excel('data/Periodictable_spdf.xlsx')"
   ]
  },
  {
   "cell_type": "code",
   "execution_count": 4,
   "metadata": {},
   "outputs": [
    {
     "data": {
      "text/html": [
       "<div>\n",
       "<style scoped>\n",
       "    .dataframe tbody tr th:only-of-type {\n",
       "        vertical-align: middle;\n",
       "    }\n",
       "\n",
       "    .dataframe tbody tr th {\n",
       "        vertical-align: top;\n",
       "    }\n",
       "\n",
       "    .dataframe thead th {\n",
       "        text-align: right;\n",
       "    }\n",
       "</style>\n",
       "<table border=\"1\" class=\"dataframe\">\n",
       "  <thead>\n",
       "    <tr style=\"text-align: right;\">\n",
       "      <th></th>\n",
       "      <th>Element</th>\n",
       "      <th>Symbol</th>\n",
       "      <th>NumberofElectrons</th>\n",
       "      <th>s</th>\n",
       "      <th>p</th>\n",
       "      <th>d</th>\n",
       "      <th>f</th>\n",
       "      <th>sv</th>\n",
       "      <th>pv</th>\n",
       "      <th>dv</th>\n",
       "      <th>...</th>\n",
       "      <th>Phase</th>\n",
       "      <th>Metal</th>\n",
       "      <th>Nonmetal</th>\n",
       "      <th>Metalloid</th>\n",
       "      <th>AtomicRadius</th>\n",
       "      <th>Electronegativity</th>\n",
       "      <th>FirstIonization</th>\n",
       "      <th>Density</th>\n",
       "      <th>NumberofShells</th>\n",
       "      <th>NumberofValence</th>\n",
       "    </tr>\n",
       "  </thead>\n",
       "  <tbody>\n",
       "    <tr>\n",
       "      <th>0</th>\n",
       "      <td>Hydrogen</td>\n",
       "      <td>H</td>\n",
       "      <td>1.0</td>\n",
       "      <td>1.0</td>\n",
       "      <td>0.0</td>\n",
       "      <td>0.0</td>\n",
       "      <td>0.0</td>\n",
       "      <td>1.0</td>\n",
       "      <td>0.0</td>\n",
       "      <td>0.0</td>\n",
       "      <td>...</td>\n",
       "      <td>gas</td>\n",
       "      <td>NaN</td>\n",
       "      <td>yes</td>\n",
       "      <td>NaN</td>\n",
       "      <td>0.79</td>\n",
       "      <td>2.20</td>\n",
       "      <td>13.5984</td>\n",
       "      <td>0.000090</td>\n",
       "      <td>1.0</td>\n",
       "      <td>1.0</td>\n",
       "    </tr>\n",
       "    <tr>\n",
       "      <th>1</th>\n",
       "      <td>Helium</td>\n",
       "      <td>He</td>\n",
       "      <td>2.0</td>\n",
       "      <td>2.0</td>\n",
       "      <td>0.0</td>\n",
       "      <td>0.0</td>\n",
       "      <td>0.0</td>\n",
       "      <td>2.0</td>\n",
       "      <td>0.0</td>\n",
       "      <td>0.0</td>\n",
       "      <td>...</td>\n",
       "      <td>gas</td>\n",
       "      <td>NaN</td>\n",
       "      <td>yes</td>\n",
       "      <td>NaN</td>\n",
       "      <td>0.49</td>\n",
       "      <td>NaN</td>\n",
       "      <td>24.5874</td>\n",
       "      <td>0.000179</td>\n",
       "      <td>1.0</td>\n",
       "      <td>NaN</td>\n",
       "    </tr>\n",
       "    <tr>\n",
       "      <th>2</th>\n",
       "      <td>Lithium</td>\n",
       "      <td>Li</td>\n",
       "      <td>3.0</td>\n",
       "      <td>3.0</td>\n",
       "      <td>0.0</td>\n",
       "      <td>0.0</td>\n",
       "      <td>0.0</td>\n",
       "      <td>1.0</td>\n",
       "      <td>0.0</td>\n",
       "      <td>0.0</td>\n",
       "      <td>...</td>\n",
       "      <td>solid</td>\n",
       "      <td>yes</td>\n",
       "      <td>NaN</td>\n",
       "      <td>NaN</td>\n",
       "      <td>2.10</td>\n",
       "      <td>0.98</td>\n",
       "      <td>5.3917</td>\n",
       "      <td>0.534000</td>\n",
       "      <td>2.0</td>\n",
       "      <td>1.0</td>\n",
       "    </tr>\n",
       "    <tr>\n",
       "      <th>3</th>\n",
       "      <td>Beryllium</td>\n",
       "      <td>Be</td>\n",
       "      <td>4.0</td>\n",
       "      <td>4.0</td>\n",
       "      <td>0.0</td>\n",
       "      <td>0.0</td>\n",
       "      <td>0.0</td>\n",
       "      <td>2.0</td>\n",
       "      <td>0.0</td>\n",
       "      <td>0.0</td>\n",
       "      <td>...</td>\n",
       "      <td>solid</td>\n",
       "      <td>yes</td>\n",
       "      <td>NaN</td>\n",
       "      <td>NaN</td>\n",
       "      <td>1.40</td>\n",
       "      <td>1.57</td>\n",
       "      <td>9.3227</td>\n",
       "      <td>1.850000</td>\n",
       "      <td>2.0</td>\n",
       "      <td>2.0</td>\n",
       "    </tr>\n",
       "    <tr>\n",
       "      <th>4</th>\n",
       "      <td>Boron</td>\n",
       "      <td>B</td>\n",
       "      <td>5.0</td>\n",
       "      <td>4.0</td>\n",
       "      <td>1.0</td>\n",
       "      <td>0.0</td>\n",
       "      <td>0.0</td>\n",
       "      <td>2.0</td>\n",
       "      <td>1.0</td>\n",
       "      <td>0.0</td>\n",
       "      <td>...</td>\n",
       "      <td>solid</td>\n",
       "      <td>NaN</td>\n",
       "      <td>NaN</td>\n",
       "      <td>yes</td>\n",
       "      <td>1.20</td>\n",
       "      <td>2.04</td>\n",
       "      <td>8.2980</td>\n",
       "      <td>2.340000</td>\n",
       "      <td>2.0</td>\n",
       "      <td>3.0</td>\n",
       "    </tr>\n",
       "  </tbody>\n",
       "</table>\n",
       "<p>5 rows × 26 columns</p>\n",
       "</div>"
      ],
      "text/plain": [
       "     Element Symbol  NumberofElectrons    s    p    d    f   sv   pv   dv  \\\n",
       "0   Hydrogen      H                1.0  1.0  0.0  0.0  0.0  1.0  0.0  0.0   \n",
       "1     Helium     He                2.0  2.0  0.0  0.0  0.0  2.0  0.0  0.0   \n",
       "2    Lithium     Li                3.0  3.0  0.0  0.0  0.0  1.0  0.0  0.0   \n",
       "3  Beryllium     Be                4.0  4.0  0.0  0.0  0.0  2.0  0.0  0.0   \n",
       "4      Boron      B                5.0  4.0  1.0  0.0  0.0  2.0  1.0  0.0   \n",
       "\n",
       "   ...  Phase  Metal  Nonmetal  Metalloid  AtomicRadius  Electronegativity  \\\n",
       "0  ...    gas    NaN       yes        NaN          0.79               2.20   \n",
       "1  ...    gas    NaN       yes        NaN          0.49                NaN   \n",
       "2  ...  solid    yes       NaN        NaN          2.10               0.98   \n",
       "3  ...  solid    yes       NaN        NaN          1.40               1.57   \n",
       "4  ...  solid    NaN       NaN        yes          1.20               2.04   \n",
       "\n",
       "  FirstIonization   Density NumberofShells NumberofValence  \n",
       "0         13.5984  0.000090            1.0             1.0  \n",
       "1         24.5874  0.000179            1.0             NaN  \n",
       "2          5.3917  0.534000            2.0             1.0  \n",
       "3          9.3227  1.850000            2.0             2.0  \n",
       "4          8.2980  2.340000            2.0             3.0  \n",
       "\n",
       "[5 rows x 26 columns]"
      ]
     },
     "execution_count": 4,
     "metadata": {},
     "output_type": "execute_result"
    }
   ],
   "source": [
    "per_tab.head()"
   ]
  },
  {
   "cell_type": "code",
   "execution_count": 5,
   "metadata": {},
   "outputs": [
    {
     "data": {
      "text/plain": [
       "Index(['Element', 'Symbol', 'NumberofElectrons', 's', 'p', 'd', 'f', 'sv',\n",
       "       'pv', 'dv', 'fv', 'Group', 'Period', 'E1', 'E2', 'AtomicMass', 'Phase',\n",
       "       'Metal', 'Nonmetal', 'Metalloid', 'AtomicRadius', 'Electronegativity',\n",
       "       'FirstIonization', 'Density', 'NumberofShells', 'NumberofValence'],\n",
       "      dtype='object')"
      ]
     },
     "execution_count": 5,
     "metadata": {},
     "output_type": "execute_result"
    }
   ],
   "source": [
    "per_tab.columns"
   ]
  },
  {
   "cell_type": "code",
   "execution_count": 7,
   "metadata": {},
   "outputs": [],
   "source": [
    "data = pd.read_excel('data/13000_triv_nontriv_spdf_binary.xlsx')"
   ]
  },
  {
   "cell_type": "code",
   "execution_count": 8,
   "metadata": {},
   "outputs": [
    {
     "data": {
      "text/plain": [
       "Index(['NoE', 'Stoich. Formula', 'SG', 'Point Group', 'Top_Class', 'split',\n",
       "       'feat_vector', 's_bin', 'p_bin', 'd_bin', 'f_bin', 'S_mean', 'S_var',\n",
       "       'P_mean', 'P_var', 'D_mean', 'D_var', 'F_mean', 'F_var', 'row_mean',\n",
       "       'row_var', 'col_mean', 'col_var', 'en_mean', 'en_var', 'rad_mean',\n",
       "       'rad_var'],\n",
       "      dtype='object')"
      ]
     },
     "execution_count": 8,
     "metadata": {},
     "output_type": "execute_result"
    }
   ],
   "source": [
    "data.columns"
   ]
  },
  {
   "cell_type": "code",
   "execution_count": 14,
   "metadata": {},
   "outputs": [
    {
     "data": {
      "text/plain": [
       "['Te', 'Se', 'O', 'O', 'O', 'O']"
      ]
     },
     "execution_count": 14,
     "metadata": {},
     "output_type": "execute_result"
    }
   ],
   "source": [
    "data['split'].iloc[1]"
   ]
  },
  {
   "cell_type": "code",
   "execution_count": 13,
   "metadata": {},
   "outputs": [
    {
     "name": "stderr",
     "output_type": "stream",
     "text": [
      "/home/hp/.local/lib/python3.8/site-packages/pandas/core/indexing.py:1732: SettingWithCopyWarning: \n",
      "A value is trying to be set on a copy of a slice from a DataFrame\n",
      "\n",
      "See the caveats in the documentation: https://pandas.pydata.org/pandas-docs/stable/user_guide/indexing.html#returning-a-view-versus-a-copy\n",
      "  self._setitem_single_block(indexer, value, name)\n"
     ]
    }
   ],
   "source": [
    "import ast\n",
    "for i in range(len(data)):\n",
    "    data['split'].iloc[i] = ast.literal_eval(data['split'].iloc[i])"
   ]
  },
  {
   "cell_type": "code",
   "execution_count": 15,
   "metadata": {},
   "outputs": [],
   "source": [
    "E1_dict = dict(zip(per_tab['Symbol'],per_tab['E1']))\n",
    "E2_dict = dict(zip(per_tab['Symbol'],per_tab['E2']))"
   ]
  },
  {
   "cell_type": "code",
   "execution_count": 37,
   "metadata": {},
   "outputs": [
    {
     "data": {
      "text/plain": [
       "{'H': 0.0,\n",
       " 'He': 0.0,\n",
       " 'Li': -5.29969,\n",
       " 'Be': -7.330097,\n",
       " 'B': -5.667302,\n",
       " 'C': -7.426173,\n",
       " 'N': -9.324772,\n",
       " 'O': -11.36567,\n",
       " 'F': -6.724746,\n",
       " 'Ne': -15.83732,\n",
       " 'Na': -6.180429,\n",
       " 'Mg': -6.180429,\n",
       " 'Al': -4.244027,\n",
       " 'Si': -5.508487,\n",
       " 'P': -6.870801,\n",
       " 'S': -8.368146,\n",
       " 'Cl': -9.965476,\n",
       " 'Ar': -11.64861,\n",
       " 'K': 4.005134,\n",
       " 'Ca': -4.911667,\n",
       " 'Sc': -5.368593,\n",
       " 'Ti': -5.368593,\n",
       " 'V': -5.719559,\n",
       " 'Cr': -5.719559,\n",
       " 'Mn': -6.555688,\n",
       " 'Fe': -6.803502,\n",
       " 'Co': -7.043143,\n",
       " 'Ni': -7.276755,\n",
       " 'Cu': -6.705124,\n",
       " 'Zn': -6.705124,\n",
       " 'Ga': -4.353655,\n",
       " 'Ge': -5.438587,\n",
       " 'As': -6.440955,\n",
       " 'Se': -7.677669,\n",
       " 'Br': -8.969009,\n",
       " 'Kr': -10.31129,\n",
       " 'Rb': -3.796175,\n",
       " 'Sr': -4.595368,\n",
       " 'Y': -5.173711,\n",
       " 'Zr': -5.55138,\n",
       " 'Nb': -5.38818,\n",
       " 'Mo': -5.577986,\n",
       " 'Tc': -5.751501,\n",
       " 'Ru': -5.908857,\n",
       " 'Rh': -6.0516,\n",
       " 'Pd': -5.603678,\n",
       " 'Ag': -6.306739,\n",
       " 'Cd': -7.260586,\n",
       " 'In': -4.22339,\n",
       " 'Sn': -5.181381,\n",
       " 'Sb': -5.760442,\n",
       " 'Te': -6.784606,\n",
       " 'I': -7.846537,\n",
       " 'Xe': -7.846537,\n",
       " 'Cs': -3.483637,\n",
       " 'Ba': -4.186351,\n",
       " 'La': -4.634328,\n",
       " 'Ce': -4.417023,\n",
       " 'Pr': -4.472053,\n",
       " 'Nd': -4.534108,\n",
       " 'Pm': -4.590754,\n",
       " 'Sm': -4.654801,\n",
       " 'Eu': -4.712636,\n",
       " 'Gd': -5.173732,\n",
       " 'Tb': -5.250394,\n",
       " 'Dy': -4.895679,\n",
       " 'Ho': -4.954053,\n",
       " 'Er': -5.012355,\n",
       " 'Tm': -5.012355,\n",
       " 'Yb': -5.012355,\n",
       " 'Lu': -5.773917,\n",
       " 'Hf': -6.19239,\n",
       " 'Ta': -6.533825,\n",
       " 'W': -7.119573,\n",
       " 'Re': -7.119573,\n",
       " 'Os': -7.386652,\n",
       " 'Ir': -5.04557,\n",
       " 'Pt': -7.259226,\n",
       " 'Au': 7.429517,\n",
       " 'Hg': -8.317225,\n",
       " 'Tl': -5.392322,\n",
       " 'Pb': -5.392322,\n",
       " 'Bi': -5.308428,\n",
       " 'Po': -5.957323,\n",
       " 'At': -6.894269,\n",
       " 'Rn': -7.864777,\n",
       " 'Fr': -3.551962,\n",
       " 'Ra': -4.247925,\n",
       " 'Ac': -4.837262,\n",
       " 'Th': -4.837262,\n",
       " 'Pa': -2.117262,\n",
       " 'U': -3.301538,\n",
       " 'Np': -4.837262,\n",
       " 'Pu': -1.941537,\n",
       " 'Am': -1.669537,\n",
       " 'Cm': -1.669537,\n",
       " 'Bk': -1.683137,\n",
       " 'Cf': -2.893538,\n",
       " 'Es': nan,\n",
       " 'Fm': nan,\n",
       " 'Md': nan,\n",
       " 'No': nan,\n",
       " 'Lr': nan,\n",
       " 'Rf': nan,\n",
       " 'Db': nan,\n",
       " 'Sg': nan,\n",
       " 'Bh': nan,\n",
       " 'Hs': nan,\n",
       " 'Mt': nan,\n",
       " 'Ds': nan,\n",
       " 'Rg': nan,\n",
       " 'Cn': nan,\n",
       " 'Nh': nan,\n",
       " 'Fl': nan,\n",
       " 'Mc': nan,\n",
       " 'Lv': nan,\n",
       " 'Ts': nan,\n",
       " 'Og': nan}"
      ]
     },
     "execution_count": 37,
     "metadata": {},
     "output_type": "execute_result"
    }
   ],
   "source": [
    "E2_dict"
   ]
  },
  {
   "cell_type": "code",
   "execution_count": 38,
   "metadata": {},
   "outputs": [],
   "source": [
    "E1_dict['D'] = -13.6\n",
    "E2_dict['D'] = 0"
   ]
  },
  {
   "cell_type": "code",
   "execution_count": 42,
   "metadata": {},
   "outputs": [],
   "source": [
    "import sys"
   ]
  },
  {
   "cell_type": "code",
   "execution_count": 49,
   "metadata": {},
   "outputs": [],
   "source": [
    "min_list = []\n",
    "for i in range(len(data)):\n",
    "    compound = data['split'].iloc[i]\n",
    "    min_ = sys.maxsize-1\n",
    "    for i in range(len(compound)):\n",
    "        for j in range(len(compound)):\n",
    "            if i!=j:\n",
    "                temp1 = abs(E1_dict[compound[i]] - E1_dict[compound[j]])\n",
    "                temp2 = abs(E2_dict[compound[i]] - E1_dict[compound[j]])\n",
    "                temp3 = abs(E2_dict[compound[i]] - E2_dict[compound[j]])\n",
    "                #temp1 = E1_dict[compound[i]] - E1_dict[compound[j]]\n",
    "                if temp1==0:\n",
    "                    temp1 = sys.maxsize-1\n",
    "                if temp2==0:\n",
    "                    temp2 = sys.maxsize-1\n",
    "                if temp3==0:\n",
    "                    temp3 = sys.maxsize-1\n",
    "                \n",
    "                min_ = min([temp1,temp2,temp3,min_])\n",
    "    min_list.append(min_)"
   ]
  },
  {
   "cell_type": "code",
   "execution_count": 51,
   "metadata": {},
   "outputs": [],
   "source": [
    "data['onsite_en'] = min_list"
   ]
  },
  {
   "cell_type": "code",
   "execution_count": 53,
   "metadata": {},
   "outputs": [],
   "source": [
    "data.to_excel('data/13000_triv_nontriv_spdf_binary.xlsx')"
   ]
  },
  {
   "cell_type": "code",
   "execution_count": 16,
   "metadata": {},
   "outputs": [],
   "source": [
    "dat = [[10, 15, 12, 9 ,8],\n",
    "[7, 6, 13, 16, 5],\n",
    "[12, 8, 10, 13, 15]]"
   ]
  },
  {
   "cell_type": "code",
   "execution_count": 19,
   "metadata": {},
   "outputs": [],
   "source": [
    "mu = sum([x for sublist in dat for x in sublist])"
   ]
  },
  {
   "cell_type": "code",
   "execution_count": 28,
   "metadata": {},
   "outputs": [],
   "source": [
    "mu=mu/15"
   ]
  },
  {
   "cell_type": "code",
   "execution_count": 21,
   "metadata": {},
   "outputs": [],
   "source": [
    "y1 = np.mean(dat[0])\n",
    "y2 = np.mean(dat[1])\n",
    "y3 = np.mean(dat[2])"
   ]
  },
  {
   "cell_type": "code",
   "execution_count": 22,
   "metadata": {},
   "outputs": [
    {
     "name": "stdout",
     "output_type": "stream",
     "text": [
      "10.8 9.4 11.6\n"
     ]
    }
   ],
   "source": [
    "print(y1,y2,y3)"
   ]
  },
  {
   "cell_type": "code",
   "execution_count": 31,
   "metadata": {},
   "outputs": [
    {
     "data": {
      "text/plain": [
       "12.766666666666666"
      ]
     },
     "execution_count": 31,
     "metadata": {},
     "output_type": "execute_result"
    }
   ],
   "source": [
    "(sum((np.array(dat[0]) - y1)**2) + sum((np.array(dat[1]) - y2)**2) + sum((np.array(dat[2]) - y3)**2))/12"
   ]
  },
  {
   "cell_type": "code",
   "execution_count": 30,
   "metadata": {},
   "outputs": [
    {
     "data": {
      "text/plain": [
       "array([-0.8,  4.2,  1.2, -1.8, -2.8])"
      ]
     },
     "execution_count": 30,
     "metadata": {},
     "output_type": "execute_result"
    }
   ],
   "source": [
    "(np.array(dat[0]) - y1)"
   ]
  },
  {
   "cell_type": "code",
   "execution_count": 29,
   "metadata": {},
   "outputs": [
    {
     "data": {
      "text/plain": [
       "2.4799999999999986"
      ]
     },
     "execution_count": 29,
     "metadata": {},
     "output_type": "execute_result"
    }
   ],
   "source": [
    "(y1-mu)**2 + (y2-mu)**2 + (y3-mu)**2 "
   ]
  },
  {
   "cell_type": "code",
   "execution_count": 32,
   "metadata": {},
   "outputs": [
    {
     "data": {
      "text/plain": [
       "0.4851097178683386"
      ]
     },
     "execution_count": 32,
     "metadata": {},
     "output_type": "execute_result"
    }
   ],
   "source": [
    "6.19/12.76"
   ]
  },
  {
   "cell_type": "code",
   "execution_count": null,
   "metadata": {},
   "outputs": [],
   "source": []
  }
 ],
 "metadata": {
  "kernelspec": {
   "display_name": "Python 3",
   "language": "python",
   "name": "python3"
  },
  "language_info": {
   "codemirror_mode": {
    "name": "ipython",
    "version": 3
   },
   "file_extension": ".py",
   "mimetype": "text/x-python",
   "name": "python",
   "nbconvert_exporter": "python",
   "pygments_lexer": "ipython3",
   "version": "3.8.10"
  }
 },
 "nbformat": 4,
 "nbformat_minor": 4
}
