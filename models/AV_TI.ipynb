{
 "cells": [
  {
   "cell_type": "code",
   "execution_count": 1,
   "id": "e0f625eb",
   "metadata": {},
   "outputs": [],
   "source": [
    "# in cm, margins of table 1\n",
    "import pandas as pd\n",
    "import numpy as np"
   ]
  },
  {
   "cell_type": "code",
   "execution_count": 2,
   "id": "b97106bd",
   "metadata": {},
   "outputs": [],
   "source": [
    "data = pd.read_excel('/Users/chaithanya/Documents/DDP/DDP-dump/Data/TI_clean.xlsx',header=None)\n",
    "#dat2 = pd.read_csv('/Users/chaithanya/Documents/DDP/DDP-dump/Data/AV_clean_TCI.csv')"
   ]
  },
  {
   "cell_type": "code",
   "execution_count": 32,
   "id": "41edaad9",
   "metadata": {},
   "outputs": [],
   "source": [
    "fd = pd.read_csv('/Users/chaithanya/Documents/DDP/DDP-dump/Data/fulldata.csv',index_col=0)\n"
   ]
  },
  {
   "cell_type": "code",
   "execution_count": 3,
   "id": "ceb35853",
   "metadata": {},
   "outputs": [
    {
     "name": "stdout",
     "output_type": "stream",
     "text": [
      "<class 'pandas.core.frame.DataFrame'>\n",
      "RangeIndex: 2280 entries, 0 to 2279\n",
      "Columns: 102 entries, 0 to 101\n",
      "dtypes: float64(99), object(3)\n",
      "memory usage: 1.8+ MB\n"
     ]
    }
   ],
   "source": [
    "data.info()"
   ]
  },
  {
   "cell_type": "code",
   "execution_count": 5,
   "id": "6227316c",
   "metadata": {},
   "outputs": [
    {
     "data": {
      "text/html": [
       "<div>\n",
       "<style scoped>\n",
       "    .dataframe tbody tr th:only-of-type {\n",
       "        vertical-align: middle;\n",
       "    }\n",
       "\n",
       "    .dataframe tbody tr th {\n",
       "        vertical-align: top;\n",
       "    }\n",
       "\n",
       "    .dataframe thead th {\n",
       "        text-align: right;\n",
       "    }\n",
       "</style>\n",
       "<table border=\"1\" class=\"dataframe\">\n",
       "  <thead>\n",
       "    <tr style=\"text-align: right;\">\n",
       "      <th></th>\n",
       "      <th>0</th>\n",
       "      <th>2</th>\n",
       "      <th>3</th>\n",
       "      <th>5</th>\n",
       "      <th>7</th>\n",
       "      <th>8</th>\n",
       "      <th>9</th>\n",
       "      <th>10</th>\n",
       "      <th>11</th>\n",
       "      <th>12</th>\n",
       "      <th>...</th>\n",
       "      <th>92</th>\n",
       "      <th>93</th>\n",
       "      <th>94</th>\n",
       "      <th>95</th>\n",
       "      <th>96</th>\n",
       "      <th>97</th>\n",
       "      <th>98</th>\n",
       "      <th>99</th>\n",
       "      <th>100</th>\n",
       "      <th>101</th>\n",
       "    </tr>\n",
       "  </thead>\n",
       "  <tbody>\n",
       "    <tr>\n",
       "      <th>count</th>\n",
       "      <td>2280.000000</td>\n",
       "      <td>2280.000000</td>\n",
       "      <td>2280.000000</td>\n",
       "      <td>2280.000000</td>\n",
       "      <td>2280.0</td>\n",
       "      <td>2280.000000</td>\n",
       "      <td>2280.000000</td>\n",
       "      <td>2280.000000</td>\n",
       "      <td>2280.000000</td>\n",
       "      <td>2280.000000</td>\n",
       "      <td>...</td>\n",
       "      <td>2280.0</td>\n",
       "      <td>2280.000000</td>\n",
       "      <td>2280.000000</td>\n",
       "      <td>2280.000000</td>\n",
       "      <td>2280.000000</td>\n",
       "      <td>2280.000000</td>\n",
       "      <td>2280.000000</td>\n",
       "      <td>2280.000000</td>\n",
       "      <td>2280.000000</td>\n",
       "      <td>2280.000000</td>\n",
       "    </tr>\n",
       "    <tr>\n",
       "      <th>mean</th>\n",
       "      <td>98.414912</td>\n",
       "      <td>0.089912</td>\n",
       "      <td>89.277632</td>\n",
       "      <td>1.463158</td>\n",
       "      <td>1.0</td>\n",
       "      <td>0.919298</td>\n",
       "      <td>0.914474</td>\n",
       "      <td>0.544298</td>\n",
       "      <td>1.960057</td>\n",
       "      <td>0.057475</td>\n",
       "      <td>...</td>\n",
       "      <td>0.0</td>\n",
       "      <td>0.016547</td>\n",
       "      <td>0.199045</td>\n",
       "      <td>0.127472</td>\n",
       "      <td>0.271842</td>\n",
       "      <td>0.186906</td>\n",
       "      <td>0.183554</td>\n",
       "      <td>0.014634</td>\n",
       "      <td>78.200813</td>\n",
       "      <td>2074.867227</td>\n",
       "    </tr>\n",
       "    <tr>\n",
       "      <th>std</th>\n",
       "      <td>60.983815</td>\n",
       "      <td>0.286119</td>\n",
       "      <td>64.021625</td>\n",
       "      <td>0.498750</td>\n",
       "      <td>0.0</td>\n",
       "      <td>0.272436</td>\n",
       "      <td>0.279725</td>\n",
       "      <td>0.498143</td>\n",
       "      <td>0.116904</td>\n",
       "      <td>0.146262</td>\n",
       "      <td>...</td>\n",
       "      <td>0.0</td>\n",
       "      <td>0.080916</td>\n",
       "      <td>0.268475</td>\n",
       "      <td>0.213521</td>\n",
       "      <td>0.286553</td>\n",
       "      <td>0.267908</td>\n",
       "      <td>0.214425</td>\n",
       "      <td>0.072717</td>\n",
       "      <td>37.378960</td>\n",
       "      <td>2016.939805</td>\n",
       "    </tr>\n",
       "    <tr>\n",
       "      <th>min</th>\n",
       "      <td>8.000000</td>\n",
       "      <td>0.000000</td>\n",
       "      <td>2.000000</td>\n",
       "      <td>1.000000</td>\n",
       "      <td>1.0</td>\n",
       "      <td>0.000000</td>\n",
       "      <td>0.000000</td>\n",
       "      <td>0.000000</td>\n",
       "      <td>1.100000</td>\n",
       "      <td>0.000000</td>\n",
       "      <td>...</td>\n",
       "      <td>0.0</td>\n",
       "      <td>0.000000</td>\n",
       "      <td>0.000000</td>\n",
       "      <td>0.000000</td>\n",
       "      <td>0.000000</td>\n",
       "      <td>0.000000</td>\n",
       "      <td>0.000000</td>\n",
       "      <td>0.000000</td>\n",
       "      <td>6.370867</td>\n",
       "      <td>0.000000</td>\n",
       "    </tr>\n",
       "    <tr>\n",
       "      <th>25%</th>\n",
       "      <td>52.000000</td>\n",
       "      <td>0.000000</td>\n",
       "      <td>15.000000</td>\n",
       "      <td>1.000000</td>\n",
       "      <td>1.0</td>\n",
       "      <td>1.000000</td>\n",
       "      <td>1.000000</td>\n",
       "      <td>0.000000</td>\n",
       "      <td>2.000000</td>\n",
       "      <td>0.000000</td>\n",
       "      <td>...</td>\n",
       "      <td>0.0</td>\n",
       "      <td>0.000000</td>\n",
       "      <td>0.000000</td>\n",
       "      <td>0.000000</td>\n",
       "      <td>0.000000</td>\n",
       "      <td>0.000000</td>\n",
       "      <td>0.000000</td>\n",
       "      <td>0.000000</td>\n",
       "      <td>49.382493</td>\n",
       "      <td>495.816128</td>\n",
       "    </tr>\n",
       "    <tr>\n",
       "      <th>50%</th>\n",
       "      <td>84.000000</td>\n",
       "      <td>0.000000</td>\n",
       "      <td>65.000000</td>\n",
       "      <td>1.000000</td>\n",
       "      <td>1.0</td>\n",
       "      <td>1.000000</td>\n",
       "      <td>1.000000</td>\n",
       "      <td>1.000000</td>\n",
       "      <td>2.000000</td>\n",
       "      <td>0.000000</td>\n",
       "      <td>...</td>\n",
       "      <td>0.0</td>\n",
       "      <td>0.000000</td>\n",
       "      <td>0.000000</td>\n",
       "      <td>0.000000</td>\n",
       "      <td>0.200000</td>\n",
       "      <td>0.000000</td>\n",
       "      <td>0.142857</td>\n",
       "      <td>0.000000</td>\n",
       "      <td>73.298550</td>\n",
       "      <td>1373.059584</td>\n",
       "    </tr>\n",
       "    <tr>\n",
       "      <th>75%</th>\n",
       "      <td>134.000000</td>\n",
       "      <td>0.000000</td>\n",
       "      <td>139.000000</td>\n",
       "      <td>2.000000</td>\n",
       "      <td>1.0</td>\n",
       "      <td>1.000000</td>\n",
       "      <td>1.000000</td>\n",
       "      <td>1.000000</td>\n",
       "      <td>2.000000</td>\n",
       "      <td>0.000000</td>\n",
       "      <td>...</td>\n",
       "      <td>0.0</td>\n",
       "      <td>0.000000</td>\n",
       "      <td>0.500000</td>\n",
       "      <td>0.216270</td>\n",
       "      <td>0.428571</td>\n",
       "      <td>0.333333</td>\n",
       "      <td>0.333333</td>\n",
       "      <td>0.000000</td>\n",
       "      <td>101.287562</td>\n",
       "      <td>3041.078254</td>\n",
       "    </tr>\n",
       "    <tr>\n",
       "      <th>max</th>\n",
       "      <td>544.000000</td>\n",
       "      <td>1.000000</td>\n",
       "      <td>229.000000</td>\n",
       "      <td>2.000000</td>\n",
       "      <td>1.0</td>\n",
       "      <td>1.000000</td>\n",
       "      <td>1.000000</td>\n",
       "      <td>1.000000</td>\n",
       "      <td>2.000000</td>\n",
       "      <td>0.500000</td>\n",
       "      <td>...</td>\n",
       "      <td>0.0</td>\n",
       "      <td>0.750000</td>\n",
       "      <td>1.000000</td>\n",
       "      <td>1.000000</td>\n",
       "      <td>1.000000</td>\n",
       "      <td>1.000000</td>\n",
       "      <td>1.000000</td>\n",
       "      <td>1.000000</td>\n",
       "      <td>244.000000</td>\n",
       "      <td>12260.192718</td>\n",
       "    </tr>\n",
       "  </tbody>\n",
       "</table>\n",
       "<p>8 rows × 99 columns</p>\n",
       "</div>"
      ],
      "text/plain": [
       "               0            2            3            5       7    \\\n",
       "count  2280.000000  2280.000000  2280.000000  2280.000000  2280.0   \n",
       "mean     98.414912     0.089912    89.277632     1.463158     1.0   \n",
       "std      60.983815     0.286119    64.021625     0.498750     0.0   \n",
       "min       8.000000     0.000000     2.000000     1.000000     1.0   \n",
       "25%      52.000000     0.000000    15.000000     1.000000     1.0   \n",
       "50%      84.000000     0.000000    65.000000     1.000000     1.0   \n",
       "75%     134.000000     0.000000   139.000000     2.000000     1.0   \n",
       "max     544.000000     1.000000   229.000000     2.000000     1.0   \n",
       "\n",
       "               8            9            10           11           12   ...  \\\n",
       "count  2280.000000  2280.000000  2280.000000  2280.000000  2280.000000  ...   \n",
       "mean      0.919298     0.914474     0.544298     1.960057     0.057475  ...   \n",
       "std       0.272436     0.279725     0.498143     0.116904     0.146262  ...   \n",
       "min       0.000000     0.000000     0.000000     1.100000     0.000000  ...   \n",
       "25%       1.000000     1.000000     0.000000     2.000000     0.000000  ...   \n",
       "50%       1.000000     1.000000     1.000000     2.000000     0.000000  ...   \n",
       "75%       1.000000     1.000000     1.000000     2.000000     0.000000  ...   \n",
       "max       1.000000     1.000000     1.000000     2.000000     0.500000  ...   \n",
       "\n",
       "          92           93           94           95           96   \\\n",
       "count  2280.0  2280.000000  2280.000000  2280.000000  2280.000000   \n",
       "mean      0.0     0.016547     0.199045     0.127472     0.271842   \n",
       "std       0.0     0.080916     0.268475     0.213521     0.286553   \n",
       "min       0.0     0.000000     0.000000     0.000000     0.000000   \n",
       "25%       0.0     0.000000     0.000000     0.000000     0.000000   \n",
       "50%       0.0     0.000000     0.000000     0.000000     0.200000   \n",
       "75%       0.0     0.000000     0.500000     0.216270     0.428571   \n",
       "max       0.0     0.750000     1.000000     1.000000     1.000000   \n",
       "\n",
       "               97           98           99           100           101  \n",
       "count  2280.000000  2280.000000  2280.000000  2280.000000   2280.000000  \n",
       "mean      0.186906     0.183554     0.014634    78.200813   2074.867227  \n",
       "std       0.267908     0.214425     0.072717    37.378960   2016.939805  \n",
       "min       0.000000     0.000000     0.000000     6.370867      0.000000  \n",
       "25%       0.000000     0.000000     0.000000    49.382493    495.816128  \n",
       "50%       0.000000     0.142857     0.000000    73.298550   1373.059584  \n",
       "75%       0.333333     0.333333     0.000000   101.287562   3041.078254  \n",
       "max       1.000000     1.000000     1.000000   244.000000  12260.192718  \n",
       "\n",
       "[8 rows x 99 columns]"
      ]
     },
     "execution_count": 5,
     "metadata": {},
     "output_type": "execute_result"
    }
   ],
   "source": [
    "data.describe()"
   ]
  },
  {
   "cell_type": "code",
   "execution_count": 6,
   "id": "877b9af1",
   "metadata": {},
   "outputs": [
    {
     "data": {
      "text/plain": [
       "Int64Index([  0,   1,   2,   3,   4,   5,   6,   7,   8,   9,\n",
       "            ...\n",
       "             92,  93,  94,  95,  96,  97,  98,  99, 100, 101],\n",
       "           dtype='int64', length=102)"
      ]
     },
     "execution_count": 6,
     "metadata": {},
     "output_type": "execute_result"
    }
   ],
   "source": [
    "data.columns"
   ]
  },
  {
   "cell_type": "code",
   "execution_count": 7,
   "id": "2200e76c",
   "metadata": {},
   "outputs": [],
   "source": [
    "data.columns = ['NoE',\n",
    " 'Stoich. Formula','Clean',\n",
    " 'SG',\n",
    " 'Point Group',\n",
    " 'Top_Class',\n",
    " 'split',\n",
    " 's_bin',\n",
    " 'p_bin',\n",
    " 'd_bin',\n",
    " 'f_bin',\n",
    " 'S_mean',\n",
    " 'S_var',\n",
    " 'P_mean',\n",
    " 'P_var',\n",
    " 'D_mean',\n",
    " 'D_var',\n",
    " 'F_mean',\n",
    " 'F_var',\n",
    " 'row_mean',\n",
    " 'row_var',\n",
    " 'col_mean',\n",
    " 'col_var',\n",
    " 'en_mean',\n",
    " 'en_var',\n",
    " 'rad_mean',\n",
    " 'rad_var',\n",
    " 'onsite_en',\n",
    " 'SG_freq',\n",
    " 'C1',\n",
    " 'C2',\n",
    " 'C2h',\n",
    " 'C2v',\n",
    " 'C3',\n",
    " 'C3h',\n",
    " 'C3v',\n",
    " 'C4',\n",
    " 'C4h',\n",
    " 'C4v',\n",
    " 'C6',\n",
    " 'C6h',\n",
    " 'C6v',\n",
    " 'Ci',\n",
    " 'Cs',\n",
    " 'D2',\n",
    " 'D2d',\n",
    " 'D2h',\n",
    " 'D3',\n",
    " 'D3d',\n",
    " 'D3h',\n",
    " 'D4',\n",
    " 'D4h',\n",
    " 'D6',\n",
    " 'D6h',\n",
    " 'O',\n",
    " 'Oh',\n",
    " 'S4',\n",
    " 'S6',\n",
    " 'T',\n",
    " 'Td',\n",
    " 'Th',\n",
    " 'c1',\n",
    " 'c2',\n",
    " 'c3',\n",
    " 'c4',\n",
    " 'c5',\n",
    " 'c6',\n",
    " 'c7',\n",
    " 'c8',\n",
    " 'c9',\n",
    " 'c10',\n",
    " 'c11',\n",
    " 'c12',\n",
    " 'c13',\n",
    " 'c14',\n",
    " 'c15',\n",
    " 'c16',\n",
    " 'c17',\n",
    " 'c18',\n",
    " 'c19',\n",
    " 'c20',\n",
    " 'c21',\n",
    " 'c22',\n",
    " 'c23',\n",
    " 'c24',\n",
    " 'c25',\n",
    " 'c26',\n",
    " 'c27',\n",
    " 'c28',\n",
    " 'c29',\n",
    " 'c30',\n",
    " 'c31',\n",
    " 'c32',\n",
    " 'r1',\n",
    " 'r2',\n",
    " 'r3',\n",
    " 'r4',\n",
    " 'r5',\n",
    " 'r6',\n",
    " 'r7',\n",
    " 'AtomicMass_avg',\n",
    " 'AtomicMass_var']"
   ]
  },
  {
   "cell_type": "code",
   "execution_count": 17,
   "id": "eeffac97",
   "metadata": {},
   "outputs": [],
   "source": [
    "data.drop(columns = ['Stoich. Formula','Point Group','split','rad_mean','rad_var'],inplace=True)"
   ]
  },
  {
   "cell_type": "code",
   "execution_count": 9,
   "id": "bfb2e8f1",
   "metadata": {},
   "outputs": [
    {
     "data": {
      "text/plain": [
       "2280"
      ]
     },
     "execution_count": 9,
     "metadata": {},
     "output_type": "execute_result"
    }
   ],
   "source": [
    "len(data)"
   ]
  },
  {
   "cell_type": "code",
   "execution_count": 10,
   "id": "caafa3a8",
   "metadata": {},
   "outputs": [],
   "source": [
    "from xgboost import XGBClassifier\n",
    "from sklearn.metrics import accuracy_score, f1_score\n",
    "from sklearn.model_selection import train_test_split, StratifiedKFold, cross_val_score"
   ]
  },
  {
   "cell_type": "code",
   "execution_count": 11,
   "id": "b1a43a8b",
   "metadata": {},
   "outputs": [
    {
     "data": {
      "text/plain": [
       "205.0"
      ]
     },
     "execution_count": 11,
     "metadata": {},
     "output_type": "execute_result"
    }
   ],
   "source": [
    "sum(data['Clean'])"
   ]
  },
  {
   "cell_type": "code",
   "execution_count": 59,
   "id": "22e944e7",
   "metadata": {},
   "outputs": [
    {
     "data": {
      "text/plain": [
       "Index(['NoE', 'Clean', 'SG', 'Top_Class', 's_bin', 'p_bin', 'd_bin', 'f_bin',\n",
       "       'S_mean', 'S_var', 'P_mean', 'P_var', 'D_mean', 'D_var', 'F_mean',\n",
       "       'F_var', 'row_mean', 'row_var', 'col_mean', 'col_var', 'en_mean',\n",
       "       'en_var', 'onsite_en', 'SG_freq', 'C1', 'C2', 'C2h', 'C2v', 'C3', 'C3h',\n",
       "       'C3v', 'C4', 'C4h', 'C4v', 'C6', 'C6h', 'C6v', 'Ci', 'Cs', 'D2', 'D2d',\n",
       "       'D2h', 'D3', 'D3d', 'D3h', 'D4', 'D4h', 'D6', 'D6h', 'O', 'Oh', 'S4',\n",
       "       'S6', 'T', 'Td', 'Th', 'c1', 'c2', 'c3', 'c4', 'c5', 'c6', 'c7', 'c8',\n",
       "       'c9', 'c10', 'c11', 'c12', 'c13', 'c14', 'c15', 'c16', 'c17', 'c18',\n",
       "       'c19', 'c20', 'c21', 'c22', 'c23', 'c24', 'c25', 'c26', 'c27', 'c28',\n",
       "       'c29', 'c30', 'c31', 'c32', 'r1', 'r2', 'r3', 'r4', 'r5', 'r6', 'r7',\n",
       "       'AtomicMass_avg', 'AtomicMass_var'],\n",
       "      dtype='object')"
      ]
     },
     "execution_count": 59,
     "metadata": {},
     "output_type": "execute_result"
    }
   ],
   "source": [
    "data.columns"
   ]
  },
  {
   "cell_type": "code",
   "execution_count": 19,
   "id": "ef59fefe",
   "metadata": {},
   "outputs": [],
   "source": [
    "train, test = train_test_split(data,stratify=data['Clean'],random_state=1,test_size=0.1)"
   ]
  },
  {
   "cell_type": "code",
   "execution_count": null,
   "id": "84d7efaf",
   "metadata": {},
   "outputs": [],
   "source": []
  },
  {
   "cell_type": "code",
   "execution_count": 13,
   "id": "47a1d1ba",
   "metadata": {},
   "outputs": [],
   "source": [
    "from imblearn.over_sampling import SMOTE"
   ]
  },
  {
   "cell_type": "code",
   "execution_count": 14,
   "id": "dc730ca6",
   "metadata": {},
   "outputs": [],
   "source": [
    "from imblearn.pipeline import Pipeline"
   ]
  },
  {
   "cell_type": "code",
   "execution_count": null,
   "id": "da887f75",
   "metadata": {},
   "outputs": [],
   "source": [
    "\n",
    "# kf = KFold(n_splits=5)\n",
    "\n",
    "# for fold, (train_index, test_index) in enumerate(kf.split(X), 1):\n",
    "#     X_train = X[train_index]\n",
    "#     y_train = y[train_index]  # Based on your code, you might need a ravel call here, but I would look into how you're generating your y\n",
    "#     X_test = X[test_index]\n",
    "#     y_test = y[test_index]  # See comment on ravel and  y_train\n",
    "#     sm = SMOTE()\n",
    "#     X_train_oversampled, y_train_oversampled = sm.fit_sample(X_train, y_train)\n",
    "#     model = ...  # Choose a model here\n",
    "#     model.fit(X_train_oversampled, y_train_oversampled )  \n",
    "#     y_pred = model.predict(X_test)\n",
    "#     print(f'For fold {fold}:')\n",
    "#     print(f'Accuracy: {model.score(X_test, y_test)}')\n",
    "#     print(f'f-score: {f1_score(y_test, y_pred)}')"
   ]
  },
  {
   "cell_type": "code",
   "execution_count": 20,
   "id": "0da9efa0",
   "metadata": {},
   "outputs": [],
   "source": [
    "steps = [('over', SMOTE()),('model',XGBClassifier(use_label_encoder=False))]\n",
    "pipeline = Pipeline(steps=steps)\n",
    "cv = StratifiedKFold()\n",
    "scores = cross_val_score(pipeline, X = train.drop('Clean',axis=1), y=train['Clean'],  cv=cv, n_jobs=-1)"
   ]
  },
  {
   "cell_type": "code",
   "execution_count": 21,
   "id": "434b29c1",
   "metadata": {},
   "outputs": [
    {
     "data": {
      "text/plain": [
       "array([0.92457421, 0.93187348, 0.91463415, 0.93658537, 0.94634146])"
      ]
     },
     "execution_count": 21,
     "metadata": {},
     "output_type": "execute_result"
    }
   ],
   "source": [
    "scores"
   ]
  },
  {
   "cell_type": "code",
   "execution_count": 22,
   "id": "86f7d867",
   "metadata": {},
   "outputs": [
    {
     "name": "stdout",
     "output_type": "stream",
     "text": [
      "[16:59:59] WARNING: ../src/learner.cc:1115: Starting in XGBoost 1.3.0, the default evaluation metric used with the objective 'binary:logistic' was changed from 'error' to 'logloss'. Explicitly set eval_metric if you'd like to restore the old behavior.\n"
     ]
    },
    {
     "data": {
      "text/plain": [
       "XGBClassifier(base_score=0.5, booster='gbtree', colsample_bylevel=1,\n",
       "              colsample_bynode=1, colsample_bytree=1, enable_categorical=False,\n",
       "              gamma=0, gpu_id=-1, importance_type=None,\n",
       "              interaction_constraints='', learning_rate=0.300000012,\n",
       "              max_delta_step=0, max_depth=6, min_child_weight=1, missing=nan,\n",
       "              monotone_constraints='()', n_estimators=100, n_jobs=8,\n",
       "              num_parallel_tree=1, predictor='auto', random_state=0,\n",
       "              reg_alpha=0, reg_lambda=1, scale_pos_weight=1, subsample=1,\n",
       "              tree_method='exact', use_label_encoder=False,\n",
       "              validate_parameters=1, verbosity=None)"
      ]
     },
     "execution_count": 22,
     "metadata": {},
     "output_type": "execute_result"
    }
   ],
   "source": [
    "model = XGBClassifier(use_label_encoder=False)\n",
    "model.fit(train.drop('Clean',axis=1), y=train['Clean'])"
   ]
  },
  {
   "cell_type": "code",
   "execution_count": 23,
   "id": "446a099a",
   "metadata": {},
   "outputs": [
    {
     "data": {
      "text/plain": [
       "0.9035087719298246"
      ]
     },
     "execution_count": 23,
     "metadata": {},
     "output_type": "execute_result"
    }
   ],
   "source": [
    "model.score(test.drop('Clean',axis=1), y=test['Clean'])"
   ]
  },
  {
   "cell_type": "code",
   "execution_count": 24,
   "id": "7e92045d",
   "metadata": {},
   "outputs": [
    {
     "data": {
      "text/plain": [
       "0.9308017328348466"
      ]
     },
     "execution_count": 24,
     "metadata": {},
     "output_type": "execute_result"
    }
   ],
   "source": [
    "np.mean(scores)"
   ]
  },
  {
   "cell_type": "code",
   "execution_count": 26,
   "id": "179cb4ce",
   "metadata": {},
   "outputs": [],
   "source": [
    "import matplotlib.pyplot as plt"
   ]
  },
  {
   "cell_type": "code",
   "execution_count": 29,
   "id": "1e8af36d",
   "metadata": {},
   "outputs": [],
   "source": [
    "xlabels = ['NoE', 'SG', 'Top_Class', 's_bin', 'p_bin', 'd_bin', 'f_bin',\n",
    "       'S_mean', 'S_var', 'P_mean', 'P_var', 'D_mean', 'D_var', 'F_mean',\n",
    "       'F_var', 'row_mean', 'row_var', 'col_mean', 'col_var', 'en_mean',\n",
    "       'en_var', 'onsite_en', 'SG_freq', 'C1', 'C2', 'C2h', 'C2v', 'C3', 'C3h',\n",
    "       'C3v', 'C4', 'C4h', 'C4v', 'C6', 'C6h', 'C6v', 'Ci', 'Cs', 'D2', 'D2d',\n",
    "       'D2h', 'D3', 'D3d', 'D3h', 'D4', 'D4h', 'D6', 'D6h', 'O', 'Oh', 'S4',\n",
    "       'S6', 'T', 'Td', 'Th', 'c1', 'c2', 'c3', 'c4', 'c5', 'c6', 'c7', 'c8',\n",
    "       'c9', 'c10', 'c11', 'c12', 'c13', 'c14', 'c15', 'c16', 'c17', 'c18',\n",
    "       'c19', 'c20', 'c21', 'c22', 'c23', 'c24', 'c25', 'c26', 'c27', 'c28',\n",
    "       'c29', 'c30', 'c31', 'c32', 'r1', 'r2', 'r3', 'r4', 'r5', 'r6', 'r7',\n",
    "       'AtomicMass_avg', 'AtomicMass_var']"
   ]
  },
  {
   "cell_type": "code",
   "execution_count": 31,
   "id": "1893b602",
   "metadata": {},
   "outputs": [],
   "source": [
    "feat_imp = pd.DataFrame({'feature':xlabels,'importance':model.feature_importances_})"
   ]
  },
  {
   "cell_type": "code",
   "execution_count": 32,
   "id": "4dad5dfc",
   "metadata": {},
   "outputs": [],
   "source": [
    "feat_imp = feat_imp.sort_values(by='importance',ascending=False)"
   ]
  },
  {
   "cell_type": "code",
   "execution_count": 33,
   "id": "acab4845",
   "metadata": {},
   "outputs": [
    {
     "data": {
      "image/png": "[encoded data removed]",
      "text/plain": [
       "<Figure size 1080x1080 with 1 Axes>"
      ]
     },
     "metadata": {
      "needs_background": "light"
     },
     "output_type": "display_data"
    }
   ],
   "source": [
    "fig, ax = plt.subplots(figsize=(15, 15))\n",
    "ax.bar(range(len(model.feature_importances_)), feat_imp['importance'])\n",
    "plt.xticks(range(len(model.feature_importances_)), feat_imp['feature'],rotation='vertical')\n",
    "ax.set_title('Feature Importances for classification of Clean and Dirty TI')\n",
    "plt.savefig('clean_dirty.png')\n",
    "plt.show()"
   ]
  },
  {
   "cell_type": "code",
   "execution_count": 89,
   "id": "cf1bd99e",
   "metadata": {},
   "outputs": [],
   "source": [
    "from sklearn.tree import DecisionTreeClassifier\n",
    "from sklearn.tree import plot_tree"
   ]
  },
  {
   "cell_type": "code",
   "execution_count": 1,
   "id": "51d75128",
   "metadata": {},
   "outputs": [
    {
     "ename": "NameError",
     "evalue": "name 'DecisionTreeClassifier' is not defined",
     "output_type": "error",
     "traceback": [
      "\u001b[0;31m---------------------------------------------------------------------------\u001b[0m",
      "\u001b[0;31mNameError\u001b[0m                                 Traceback (most recent call last)",
      "\u001b[0;32m/var/folders/jx/fsjjh6wj1zb617xr8m3x6lkh0000gn/T/ipykernel_26877/2668189081.py\u001b[0m in \u001b[0;36m<module>\u001b[0;34m\u001b[0m\n\u001b[0;32m----> 1\u001b[0;31m \u001b[0mmodel\u001b[0m \u001b[0;34m=\u001b[0m \u001b[0mDecisionTreeClassifier\u001b[0m\u001b[0;34m(\u001b[0m\u001b[0;34m)\u001b[0m\u001b[0;34m\u001b[0m\u001b[0;34m\u001b[0m\u001b[0m\n\u001b[0m\u001b[1;32m      2\u001b[0m \u001b[0mmodel\u001b[0m\u001b[0;34m.\u001b[0m\u001b[0mfit\u001b[0m\u001b[0;34m(\u001b[0m\u001b[0mtrain\u001b[0m\u001b[0;34m.\u001b[0m\u001b[0mdrop\u001b[0m\u001b[0;34m(\u001b[0m\u001b[0;34m'Clean'\u001b[0m\u001b[0;34m,\u001b[0m\u001b[0maxis\u001b[0m\u001b[0;34m=\u001b[0m\u001b[0;36m1\u001b[0m\u001b[0;34m)\u001b[0m\u001b[0;34m,\u001b[0m \u001b[0my\u001b[0m\u001b[0;34m=\u001b[0m\u001b[0mtrain\u001b[0m\u001b[0;34m[\u001b[0m\u001b[0;34m'Clean'\u001b[0m\u001b[0;34m]\u001b[0m\u001b[0;34m)\u001b[0m\u001b[0;34m\u001b[0m\u001b[0;34m\u001b[0m\u001b[0m\n",
      "\u001b[0;31mNameError\u001b[0m: name 'DecisionTreeClassifier' is not defined"
     ]
    }
   ],
   "source": [
    "model = DecisionTreeClassifier()\n",
    "model.fit(train.drop('Clean',axis=1), y=train['Clean'])"
   ]
  },
  {
   "cell_type": "code",
   "execution_count": null,
   "id": "cc23a455",
   "metadata": {},
   "outputs": [],
   "source": []
  },
  {
   "cell_type": "code",
   "execution_count": 99,
   "id": "c88a01c2",
   "metadata": {
    "scrolled": false
   },
   "outputs": [
    {
     "data": {
      "image/png": "[encoded data removed]",
      "text/plain": [
       "<Figure size 1800x1440 with 1 Axes>"
      ]
     },
     "metadata": {
      "needs_background": "light"
     },
     "output_type": "display_data"
    }
   ],
   "source": [
    "fig = plt.figure(figsize=(25,20))\n",
    "_ = plot_tree(model,feature_names=xlabels,filled=True)\n",
    "plt.savefig('av_ti.pdf')"
   ]
  },
  {
   "cell_type": "code",
   "execution_count": 95,
   "id": "ac689b3c",
   "metadata": {},
   "outputs": [],
   "source": [
    "%matplotlib inline"
   ]
  },
  {
   "cell_type": "code",
   "execution_count": 34,
   "id": "534a94ba",
   "metadata": {},
   "outputs": [],
   "source": [
    "x = train.drop('Clean',axis=1)\n",
    "y=train['Clean']"
   ]
  },
  {
   "cell_type": "code",
   "execution_count": 35,
   "id": "6dcccf29",
   "metadata": {},
   "outputs": [
    {
     "data": {
      "image/svg+xml": [
       "<?xml version=\"1.0\" encoding=\"UTF-8\" standalone=\"no\"?>\n",
       "<!DOCTYPE svg PUBLIC \"-//W3C//DTD SVG 1.1//EN\"\n",
       " \"http://www.w3.org/Graphics/SVG/1.1/DTD/svg11.dtd\">\n",
       "<!-- Generated by graphviz version 2.40.1 (20161225.0304)\n",
       " -->\n",
       "<!-- Title: Tree Pages: 1 -->\n",
       "<svg width=\"568pt\" height=\"671pt\"\n",
       " viewBox=\"0.00 0.00 568.00 671.00\" xmlns=\"http://www.w3.org/2000/svg\" xmlns:xlink=\"http://www.w3.org/1999/xlink\">\n",
       "<g id=\"graph0\" class=\"graph\" transform=\"scale(1 1) rotate(0) translate(4 667)\">\n",
       "<title>Tree</title>\n",
       "<polygon fill=\"#ffffff\" stroke=\"transparent\" points=\"-4,4 -4,-667 564,-667 564,4 -4,4\"/>\n",
       "<!-- 0 -->\n",
       "<g id=\"node1\" class=\"node\">\n",
       "<title>0</title>\n",
       "<polygon fill=\"#e88d4d\" stroke=\"#000000\" points=\"303.5,-663 176.5,-663 176.5,-580 303.5,-580 303.5,-663\"/>\n",
       "<text text-anchor=\"middle\" x=\"240\" y=\"-647.8\" font-family=\"Times,serif\" font-size=\"14.00\" fill=\"#000000\">NoE &lt;= 29.0</text>\n",
       "<text text-anchor=\"middle\" x=\"240\" y=\"-632.8\" font-family=\"Times,serif\" font-size=\"14.00\" fill=\"#000000\">gini = 0.163</text>\n",
       "<text text-anchor=\"middle\" x=\"240\" y=\"-617.8\" font-family=\"Times,serif\" font-size=\"14.00\" fill=\"#000000\">samples = 2052</text>\n",
       "<text text-anchor=\"middle\" x=\"240\" y=\"-602.8\" font-family=\"Times,serif\" font-size=\"14.00\" fill=\"#000000\">value = [1868, 184]</text>\n",
       "<text text-anchor=\"middle\" x=\"240\" y=\"-587.8\" font-family=\"Times,serif\" font-size=\"14.00\" fill=\"#000000\">class = Dirty</text>\n",
       "</g>\n",
       "<!-- 1 -->\n",
       "<g id=\"node2\" class=\"node\">\n",
       "<title>1</title>\n",
       "<polygon fill=\"#f7d9c4\" stroke=\"#000000\" points=\"228,-544 112,-544 112,-461 228,-461 228,-544\"/>\n",
       "<text text-anchor=\"middle\" x=\"170\" y=\"-528.8\" font-family=\"Times,serif\" font-size=\"14.00\" fill=\"#000000\">P_mean &lt;= 0.929</text>\n",
       "<text text-anchor=\"middle\" x=\"170\" y=\"-513.8\" font-family=\"Times,serif\" font-size=\"14.00\" fill=\"#000000\">gini = 0.485</text>\n",
       "<text text-anchor=\"middle\" x=\"170\" y=\"-498.8\" font-family=\"Times,serif\" font-size=\"14.00\" fill=\"#000000\">samples = 148</text>\n",
       "<text text-anchor=\"middle\" x=\"170\" y=\"-483.8\" font-family=\"Times,serif\" font-size=\"14.00\" fill=\"#000000\">value = [87, 61]</text>\n",
       "<text text-anchor=\"middle\" x=\"170\" y=\"-468.8\" font-family=\"Times,serif\" font-size=\"14.00\" fill=\"#000000\">class = Dirty</text>\n",
       "</g>\n",
       "<!-- 0&#45;&gt;1 -->\n",
       "<g id=\"edge1\" class=\"edge\">\n",
       "<title>0&#45;&gt;1</title>\n",
       "<path fill=\"none\" stroke=\"#000000\" d=\"M215.5174,-579.8796C210.4315,-571.2335 205.0189,-562.0322 199.7672,-553.1042\"/>\n",
       "<polygon fill=\"#000000\" stroke=\"#000000\" points=\"202.6741,-551.1428 194.5871,-544.2981 196.6406,-554.692 202.6741,-551.1428\"/>\n",
       "<text text-anchor=\"middle\" x=\"188.313\" y=\"-564.798\" font-family=\"Times,serif\" font-size=\"14.00\" fill=\"#000000\">True</text>\n",
       "</g>\n",
       "<!-- 2 -->\n",
       "<g id=\"node7\" class=\"node\">\n",
       "<title>2</title>\n",
       "<polygon fill=\"#e78a47\" stroke=\"#000000\" points=\"373.5,-544 246.5,-544 246.5,-461 373.5,-461 373.5,-544\"/>\n",
       "<text text-anchor=\"middle\" x=\"310\" y=\"-528.8\" font-family=\"Times,serif\" font-size=\"14.00\" fill=\"#000000\">D_mean &lt;= 9.875</text>\n",
       "<text text-anchor=\"middle\" x=\"310\" y=\"-513.8\" font-family=\"Times,serif\" font-size=\"14.00\" fill=\"#000000\">gini = 0.121</text>\n",
       "<text text-anchor=\"middle\" x=\"310\" y=\"-498.8\" font-family=\"Times,serif\" font-size=\"14.00\" fill=\"#000000\">samples = 1904</text>\n",
       "<text text-anchor=\"middle\" x=\"310\" y=\"-483.8\" font-family=\"Times,serif\" font-size=\"14.00\" fill=\"#000000\">value = [1781, 123]</text>\n",
       "<text text-anchor=\"middle\" x=\"310\" y=\"-468.8\" font-family=\"Times,serif\" font-size=\"14.00\" fill=\"#000000\">class = Dirty</text>\n",
       "</g>\n",
       "<!-- 0&#45;&gt;2 -->\n",
       "<g id=\"edge6\" class=\"edge\">\n",
       "<title>0&#45;&gt;2</title>\n",
       "<path fill=\"none\" stroke=\"#000000\" d=\"M264.4826,-579.8796C269.5685,-571.2335 274.9811,-562.0322 280.2328,-553.1042\"/>\n",
       "<polygon fill=\"#000000\" stroke=\"#000000\" points=\"283.3594,-554.692 285.4129,-544.2981 277.3259,-551.1428 283.3594,-554.692\"/>\n",
       "<text text-anchor=\"middle\" x=\"291.687\" y=\"-564.798\" font-family=\"Times,serif\" font-size=\"14.00\" fill=\"#000000\">False</text>\n",
       "</g>\n",
       "<!-- 11 -->\n",
       "<g id=\"node3\" class=\"node\">\n",
       "<title>11</title>\n",
       "<polygon fill=\"#ea9c63\" stroke=\"#000000\" points=\"100.5,-417.5 1.5,-417.5 1.5,-349.5 100.5,-349.5 100.5,-417.5\"/>\n",
       "<text text-anchor=\"middle\" x=\"51\" y=\"-402.3\" font-family=\"Times,serif\" font-size=\"14.00\" fill=\"#000000\">gini = 0.287</text>\n",
       "<text text-anchor=\"middle\" x=\"51\" y=\"-387.3\" font-family=\"Times,serif\" font-size=\"14.00\" fill=\"#000000\">samples = 46</text>\n",
       "<text text-anchor=\"middle\" x=\"51\" y=\"-372.3\" font-family=\"Times,serif\" font-size=\"14.00\" fill=\"#000000\">value = [38, 8]</text>\n",
       "<text text-anchor=\"middle\" x=\"51\" y=\"-357.3\" font-family=\"Times,serif\" font-size=\"14.00\" fill=\"#000000\">class = Dirty</text>\n",
       "</g>\n",
       "<!-- 1&#45;&gt;11 -->\n",
       "<g id=\"edge2\" class=\"edge\">\n",
       "<title>1&#45;&gt;11</title>\n",
       "<path fill=\"none\" stroke=\"#000000\" d=\"M128.3796,-460.8796C116.7237,-449.2237 104.0587,-436.5587 92.4148,-424.9148\"/>\n",
       "<polygon fill=\"#000000\" stroke=\"#000000\" points=\"94.8609,-422.4111 85.3149,-417.8149 89.9111,-427.3609 94.8609,-422.4111\"/>\n",
       "</g>\n",
       "<!-- 12 -->\n",
       "<g id=\"node4\" class=\"node\">\n",
       "<title>12</title>\n",
       "<polygon fill=\"#f0f8fd\" stroke=\"#000000\" points=\"225,-425 119,-425 119,-342 225,-342 225,-425\"/>\n",
       "<text text-anchor=\"middle\" x=\"172\" y=\"-409.8\" font-family=\"Times,serif\" font-size=\"14.00\" fill=\"#000000\">c18 &lt;= 0.31</text>\n",
       "<text text-anchor=\"middle\" x=\"172\" y=\"-394.8\" font-family=\"Times,serif\" font-size=\"14.00\" fill=\"#000000\">gini = 0.499</text>\n",
       "<text text-anchor=\"middle\" x=\"172\" y=\"-379.8\" font-family=\"Times,serif\" font-size=\"14.00\" fill=\"#000000\">samples = 102</text>\n",
       "<text text-anchor=\"middle\" x=\"172\" y=\"-364.8\" font-family=\"Times,serif\" font-size=\"14.00\" fill=\"#000000\">value = [49, 53]</text>\n",
       "<text text-anchor=\"middle\" x=\"172\" y=\"-349.8\" font-family=\"Times,serif\" font-size=\"14.00\" fill=\"#000000\">class = Clean</text>\n",
       "</g>\n",
       "<!-- 1&#45;&gt;12 -->\n",
       "<g id=\"edge3\" class=\"edge\">\n",
       "<title>1&#45;&gt;12</title>\n",
       "<path fill=\"none\" stroke=\"#000000\" d=\"M170.6995,-460.8796C170.8372,-452.6838 170.9834,-443.9891 171.126,-435.5013\"/>\n",
       "<polygon fill=\"#000000\" stroke=\"#000000\" points=\"174.6289,-435.3555 171.2975,-425.2981 167.6299,-435.2378 174.6289,-435.3555\"/>\n",
       "</g>\n",
       "<!-- 13 -->\n",
       "<g id=\"node5\" class=\"node\">\n",
       "<title>13</title>\n",
       "<polygon fill=\"#f9e1d0\" stroke=\"#000000\" points=\"106,-298.5 0,-298.5 0,-230.5 106,-230.5 106,-298.5\"/>\n",
       "<text text-anchor=\"middle\" x=\"53\" y=\"-283.3\" font-family=\"Times,serif\" font-size=\"14.00\" fill=\"#000000\">gini = 0.491</text>\n",
       "<text text-anchor=\"middle\" x=\"53\" y=\"-268.3\" font-family=\"Times,serif\" font-size=\"14.00\" fill=\"#000000\">samples = 81</text>\n",
       "<text text-anchor=\"middle\" x=\"53\" y=\"-253.3\" font-family=\"Times,serif\" font-size=\"14.00\" fill=\"#000000\">value = [46, 35]</text>\n",
       "<text text-anchor=\"middle\" x=\"53\" y=\"-238.3\" font-family=\"Times,serif\" font-size=\"14.00\" fill=\"#000000\">class = Dirty</text>\n",
       "</g>\n",
       "<!-- 12&#45;&gt;13 -->\n",
       "<g id=\"edge4\" class=\"edge\">\n",
       "<title>12&#45;&gt;13</title>\n",
       "<path fill=\"none\" stroke=\"#000000\" d=\"M130.3796,-341.8796C118.7237,-330.2237 106.0587,-317.5587 94.4148,-305.9148\"/>\n",
       "<polygon fill=\"#000000\" stroke=\"#000000\" points=\"96.8609,-303.4111 87.3149,-298.8149 91.9111,-308.3609 96.8609,-303.4111\"/>\n",
       "</g>\n",
       "<!-- 14 -->\n",
       "<g id=\"node6\" class=\"node\">\n",
       "<title>14</title>\n",
       "<polygon fill=\"#5aade9\" stroke=\"#000000\" points=\"223.5,-298.5 124.5,-298.5 124.5,-230.5 223.5,-230.5 223.5,-298.5\"/>\n",
       "<text text-anchor=\"middle\" x=\"174\" y=\"-283.3\" font-family=\"Times,serif\" font-size=\"14.00\" fill=\"#000000\">gini = 0.245</text>\n",
       "<text text-anchor=\"middle\" x=\"174\" y=\"-268.3\" font-family=\"Times,serif\" font-size=\"14.00\" fill=\"#000000\">samples = 21</text>\n",
       "<text text-anchor=\"middle\" x=\"174\" y=\"-253.3\" font-family=\"Times,serif\" font-size=\"14.00\" fill=\"#000000\">value = [3, 18]</text>\n",
       "<text text-anchor=\"middle\" x=\"174\" y=\"-238.3\" font-family=\"Times,serif\" font-size=\"14.00\" fill=\"#000000\">class = Clean</text>\n",
       "</g>\n",
       "<!-- 12&#45;&gt;14 -->\n",
       "<g id=\"edge5\" class=\"edge\">\n",
       "<title>12&#45;&gt;14</title>\n",
       "<path fill=\"none\" stroke=\"#000000\" d=\"M172.6995,-341.8796C172.8788,-331.2134 173.0722,-319.7021 173.2538,-308.9015\"/>\n",
       "<polygon fill=\"#000000\" stroke=\"#000000\" points=\"176.7546,-308.8724 173.4233,-298.8149 169.7556,-308.7547 176.7546,-308.8724\"/>\n",
       "</g>\n",
       "<!-- 3 -->\n",
       "<g id=\"node8\" class=\"node\">\n",
       "<title>3</title>\n",
       "<polygon fill=\"#e78945\" stroke=\"#000000\" points=\"372.5,-425 245.5,-425 245.5,-342 372.5,-342 372.5,-425\"/>\n",
       "<text text-anchor=\"middle\" x=\"309\" y=\"-409.8\" font-family=\"Times,serif\" font-size=\"14.00\" fill=\"#000000\">c29 &lt;= 0.321</text>\n",
       "<text text-anchor=\"middle\" x=\"309\" y=\"-394.8\" font-family=\"Times,serif\" font-size=\"14.00\" fill=\"#000000\">gini = 0.108</text>\n",
       "<text text-anchor=\"middle\" x=\"309\" y=\"-379.8\" font-family=\"Times,serif\" font-size=\"14.00\" fill=\"#000000\">samples = 1878</text>\n",
       "<text text-anchor=\"middle\" x=\"309\" y=\"-364.8\" font-family=\"Times,serif\" font-size=\"14.00\" fill=\"#000000\">value = [1770, 108]</text>\n",
       "<text text-anchor=\"middle\" x=\"309\" y=\"-349.8\" font-family=\"Times,serif\" font-size=\"14.00\" fill=\"#000000\">class = Dirty</text>\n",
       "</g>\n",
       "<!-- 2&#45;&gt;3 -->\n",
       "<g id=\"edge7\" class=\"edge\">\n",
       "<title>2&#45;&gt;3</title>\n",
       "<path fill=\"none\" stroke=\"#000000\" d=\"M309.6502,-460.8796C309.5814,-452.6838 309.5083,-443.9891 309.437,-435.5013\"/>\n",
       "<polygon fill=\"#000000\" stroke=\"#000000\" points=\"312.9352,-435.2683 309.3512,-425.2981 305.9355,-435.3272 312.9352,-435.2683\"/>\n",
       "</g>\n",
       "<!-- 4 -->\n",
       "<g id=\"node15\" class=\"node\">\n",
       "<title>4</title>\n",
       "<polygon fill=\"#cae5f8\" stroke=\"#000000\" points=\"497,-417.5 391,-417.5 391,-349.5 497,-349.5 497,-417.5\"/>\n",
       "<text text-anchor=\"middle\" x=\"444\" y=\"-402.3\" font-family=\"Times,serif\" font-size=\"14.00\" fill=\"#000000\">gini = 0.488</text>\n",
       "<text text-anchor=\"middle\" x=\"444\" y=\"-387.3\" font-family=\"Times,serif\" font-size=\"14.00\" fill=\"#000000\">samples = 26</text>\n",
       "<text text-anchor=\"middle\" x=\"444\" y=\"-372.3\" font-family=\"Times,serif\" font-size=\"14.00\" fill=\"#000000\">value = [11, 15]</text>\n",
       "<text text-anchor=\"middle\" x=\"444\" y=\"-357.3\" font-family=\"Times,serif\" font-size=\"14.00\" fill=\"#000000\">class = Clean</text>\n",
       "</g>\n",
       "<!-- 2&#45;&gt;4 -->\n",
       "<g id=\"edge14\" class=\"edge\">\n",
       "<title>2&#45;&gt;4</title>\n",
       "<path fill=\"none\" stroke=\"#000000\" d=\"M356.8667,-460.8796C370.1156,-449.1138 384.5224,-436.3197 397.7356,-424.5855\"/>\n",
       "<polygon fill=\"#000000\" stroke=\"#000000\" points=\"400.2065,-427.0722 405.3597,-417.8149 395.5584,-421.8381 400.2065,-427.0722\"/>\n",
       "</g>\n",
       "<!-- 5 -->\n",
       "<g id=\"node9\" class=\"node\">\n",
       "<title>5</title>\n",
       "<polygon fill=\"#e68641\" stroke=\"#000000\" points=\"368,-298.5 248,-298.5 248,-230.5 368,-230.5 368,-298.5\"/>\n",
       "<text text-anchor=\"middle\" x=\"308\" y=\"-283.3\" font-family=\"Times,serif\" font-size=\"14.00\" fill=\"#000000\">gini = 0.076</text>\n",
       "<text text-anchor=\"middle\" x=\"308\" y=\"-268.3\" font-family=\"Times,serif\" font-size=\"14.00\" fill=\"#000000\">samples = 1672</text>\n",
       "<text text-anchor=\"middle\" x=\"308\" y=\"-253.3\" font-family=\"Times,serif\" font-size=\"14.00\" fill=\"#000000\">value = [1606, 66]</text>\n",
       "<text text-anchor=\"middle\" x=\"308\" y=\"-238.3\" font-family=\"Times,serif\" font-size=\"14.00\" fill=\"#000000\">class = Dirty</text>\n",
       "</g>\n",
       "<!-- 3&#45;&gt;5 -->\n",
       "<g id=\"edge8\" class=\"edge\">\n",
       "<title>3&#45;&gt;5</title>\n",
       "<path fill=\"none\" stroke=\"#000000\" d=\"M308.6502,-341.8796C308.5606,-331.2134 308.4639,-319.7021 308.3731,-308.9015\"/>\n",
       "<polygon fill=\"#000000\" stroke=\"#000000\" points=\"311.8724,-308.7851 308.2884,-298.8149 304.8726,-308.844 311.8724,-308.7851\"/>\n",
       "</g>\n",
       "<!-- 6 -->\n",
       "<g id=\"node10\" class=\"node\">\n",
       "<title>6</title>\n",
       "<polygon fill=\"#eca16c\" stroke=\"#000000\" points=\"499.5,-306 386.5,-306 386.5,-223 499.5,-223 499.5,-306\"/>\n",
       "<text text-anchor=\"middle\" x=\"443\" y=\"-290.8\" font-family=\"Times,serif\" font-size=\"14.00\" fill=\"#000000\">c2 &lt;= 0.236</text>\n",
       "<text text-anchor=\"middle\" x=\"443\" y=\"-275.8\" font-family=\"Times,serif\" font-size=\"14.00\" fill=\"#000000\">gini = 0.325</text>\n",
       "<text text-anchor=\"middle\" x=\"443\" y=\"-260.8\" font-family=\"Times,serif\" font-size=\"14.00\" fill=\"#000000\">samples = 206</text>\n",
       "<text text-anchor=\"middle\" x=\"443\" y=\"-245.8\" font-family=\"Times,serif\" font-size=\"14.00\" fill=\"#000000\">value = [164, 42]</text>\n",
       "<text text-anchor=\"middle\" x=\"443\" y=\"-230.8\" font-family=\"Times,serif\" font-size=\"14.00\" fill=\"#000000\">class = Dirty</text>\n",
       "</g>\n",
       "<!-- 3&#45;&gt;6 -->\n",
       "<g id=\"edge9\" class=\"edge\">\n",
       "<title>3&#45;&gt;6</title>\n",
       "<path fill=\"none\" stroke=\"#000000\" d=\"M355.8667,-341.8796C366.3125,-332.6031 377.4781,-322.6874 388.211,-313.1559\"/>\n",
       "<polygon fill=\"#000000\" stroke=\"#000000\" points=\"390.7801,-315.5553 395.9333,-306.2981 386.132,-310.3213 390.7801,-315.5553\"/>\n",
       "</g>\n",
       "<!-- 7 -->\n",
       "<g id=\"node11\" class=\"node\">\n",
       "<title>7</title>\n",
       "<polygon fill=\"#e89153\" stroke=\"#000000\" points=\"435.5,-187 322.5,-187 322.5,-104 435.5,-104 435.5,-187\"/>\n",
       "<text text-anchor=\"middle\" x=\"379\" y=\"-171.8\" font-family=\"Times,serif\" font-size=\"14.00\" fill=\"#000000\">c26 &lt;= 0.477</text>\n",
       "<text text-anchor=\"middle\" x=\"379\" y=\"-156.8\" font-family=\"Times,serif\" font-size=\"14.00\" fill=\"#000000\">gini = 0.203</text>\n",
       "<text text-anchor=\"middle\" x=\"379\" y=\"-141.8\" font-family=\"Times,serif\" font-size=\"14.00\" fill=\"#000000\">samples = 166</text>\n",
       "<text text-anchor=\"middle\" x=\"379\" y=\"-126.8\" font-family=\"Times,serif\" font-size=\"14.00\" fill=\"#000000\">value = [147, 19]</text>\n",
       "<text text-anchor=\"middle\" x=\"379\" y=\"-111.8\" font-family=\"Times,serif\" font-size=\"14.00\" fill=\"#000000\">class = Dirty</text>\n",
       "</g>\n",
       "<!-- 6&#45;&gt;7 -->\n",
       "<g id=\"edge10\" class=\"edge\">\n",
       "<title>6&#45;&gt;7</title>\n",
       "<path fill=\"none\" stroke=\"#000000\" d=\"M420.6159,-222.8796C416.0144,-214.3236 411.1204,-205.2238 406.3658,-196.3833\"/>\n",
       "<polygon fill=\"#000000\" stroke=\"#000000\" points=\"409.2988,-194.4473 401.4796,-187.2981 403.1338,-197.763 409.2988,-194.4473\"/>\n",
       "</g>\n",
       "<!-- 8 -->\n",
       "<g id=\"node14\" class=\"node\">\n",
       "<title>8</title>\n",
       "<polygon fill=\"#cbe5f8\" stroke=\"#000000\" points=\"560,-179.5 454,-179.5 454,-111.5 560,-111.5 560,-179.5\"/>\n",
       "<text text-anchor=\"middle\" x=\"507\" y=\"-164.3\" font-family=\"Times,serif\" font-size=\"14.00\" fill=\"#000000\">gini = 0.489</text>\n",
       "<text text-anchor=\"middle\" x=\"507\" y=\"-149.3\" font-family=\"Times,serif\" font-size=\"14.00\" fill=\"#000000\">samples = 40</text>\n",
       "<text text-anchor=\"middle\" x=\"507\" y=\"-134.3\" font-family=\"Times,serif\" font-size=\"14.00\" fill=\"#000000\">value = [17, 23]</text>\n",
       "<text text-anchor=\"middle\" x=\"507\" y=\"-119.3\" font-family=\"Times,serif\" font-size=\"14.00\" fill=\"#000000\">class = Clean</text>\n",
       "</g>\n",
       "<!-- 6&#45;&gt;8 -->\n",
       "<g id=\"edge13\" class=\"edge\">\n",
       "<title>6&#45;&gt;8</title>\n",
       "<path fill=\"none\" stroke=\"#000000\" d=\"M465.3841,-222.8796C471.298,-211.8835 477.6949,-199.9893 483.658,-188.9015\"/>\n",
       "<polygon fill=\"#000000\" stroke=\"#000000\" points=\"486.8908,-190.2799 488.5449,-179.8149 480.7258,-186.9642 486.8908,-190.2799\"/>\n",
       "</g>\n",
       "<!-- 9 -->\n",
       "<g id=\"node12\" class=\"node\">\n",
       "<title>9</title>\n",
       "<polygon fill=\"#e78d4c\" stroke=\"#000000\" points=\"375.5,-68 262.5,-68 262.5,0 375.5,0 375.5,-68\"/>\n",
       "<text text-anchor=\"middle\" x=\"319\" y=\"-52.8\" font-family=\"Times,serif\" font-size=\"14.00\" fill=\"#000000\">gini = 0.159</text>\n",
       "<text text-anchor=\"middle\" x=\"319\" y=\"-37.8\" font-family=\"Times,serif\" font-size=\"14.00\" fill=\"#000000\">samples = 161</text>\n",
       "<text text-anchor=\"middle\" x=\"319\" y=\"-22.8\" font-family=\"Times,serif\" font-size=\"14.00\" fill=\"#000000\">value = [147, 14]</text>\n",
       "<text text-anchor=\"middle\" x=\"319\" y=\"-7.8\" font-family=\"Times,serif\" font-size=\"14.00\" fill=\"#000000\">class = Dirty</text>\n",
       "</g>\n",
       "<!-- 7&#45;&gt;9 -->\n",
       "<g id=\"edge11\" class=\"edge\">\n",
       "<title>7&#45;&gt;9</title>\n",
       "<path fill=\"none\" stroke=\"#000000\" d=\"M356.6582,-103.9815C351.9598,-95.2504 346.9929,-86.0202 342.2617,-77.2281\"/>\n",
       "<polygon fill=\"#000000\" stroke=\"#000000\" points=\"345.2586,-75.4111 337.4379,-68.2637 339.0944,-78.7282 345.2586,-75.4111\"/>\n",
       "</g>\n",
       "<!-- 10 -->\n",
       "<g id=\"node13\" class=\"node\">\n",
       "<title>10</title>\n",
       "<polygon fill=\"#399de5\" stroke=\"#000000\" points=\"486,-68 394,-68 394,0 486,0 486,-68\"/>\n",
       "<text text-anchor=\"middle\" x=\"440\" y=\"-52.8\" font-family=\"Times,serif\" font-size=\"14.00\" fill=\"#000000\">gini = 0.0</text>\n",
       "<text text-anchor=\"middle\" x=\"440\" y=\"-37.8\" font-family=\"Times,serif\" font-size=\"14.00\" fill=\"#000000\">samples = 5</text>\n",
       "<text text-anchor=\"middle\" x=\"440\" y=\"-22.8\" font-family=\"Times,serif\" font-size=\"14.00\" fill=\"#000000\">value = [0, 5]</text>\n",
       "<text text-anchor=\"middle\" x=\"440\" y=\"-7.8\" font-family=\"Times,serif\" font-size=\"14.00\" fill=\"#000000\">class = Clean</text>\n",
       "</g>\n",
       "<!-- 7&#45;&gt;10 -->\n",
       "<g id=\"edge12\" class=\"edge\">\n",
       "<title>7&#45;&gt;10</title>\n",
       "<path fill=\"none\" stroke=\"#000000\" d=\"M401.7141,-103.9815C406.4908,-95.2504 411.5405,-86.0202 416.3506,-77.2281\"/>\n",
       "<polygon fill=\"#000000\" stroke=\"#000000\" points=\"419.5258,-78.7165 421.2549,-68.2637 413.3847,-75.3568 419.5258,-78.7165\"/>\n",
       "</g>\n",
       "</g>\n",
       "</svg>\n"
      ],
      "text/plain": [
       "<graphviz.files.Source at 0x7fd7a92b4ca0>"
      ]
     },
     "execution_count": 35,
     "metadata": {},
     "output_type": "execute_result"
    }
   ],
   "source": [
    "from sklearn.tree import DecisionTreeClassifier \n",
    "from sklearn import tree\n",
    "\n",
    "clf = DecisionTreeClassifier(random_state=1234,max_leaf_nodes=8)\n",
    "model = clf.fit(x, y)\n",
    "\n",
    "import graphviz\n",
    "# DOT data\n",
    "dot_data = tree.export_graphviz(clf, out_file=None, \n",
    "                                feature_names=xlabels,  \n",
    "                                class_names=['Dirty','Clean'],\n",
    "                                filled=True)\n",
    "\n",
    "# Draw graph\n",
    "graph = graphviz.Source(dot_data, format=\"png\") \n",
    "graph"
   ]
  },
  {
   "cell_type": "code",
   "execution_count": 36,
   "id": "104860e5",
   "metadata": {},
   "outputs": [
    {
     "data": {
      "text/plain": [
       "'decision_tree_AV_TI.png'"
      ]
     },
     "execution_count": 36,
     "metadata": {},
     "output_type": "execute_result"
    }
   ],
   "source": [
    "graph.render(\"decision_tree_AV_TI\")"
   ]
  },
  {
   "cell_type": "code",
   "execution_count": null,
   "id": "42b9cabe",
   "metadata": {},
   "outputs": [],
   "source": []
  }
 ],
 "metadata": {
  "kernelspec": {
   "display_name": "Python 3 (ipykernel)",
   "language": "python",
   "name": "python3"
  },
  "language_info": {
   "codemirror_mode": {
    "name": "ipython",
    "version": 3
   },
   "file_extension": ".py",
   "mimetype": "text/x-python",
   "name": "python",
   "nbconvert_exporter": "python",
   "pygments_lexer": "ipython3",
   "version": "3.9.7"
  }
 },
 "nbformat": 4,
 "nbformat_minor": 5
}
